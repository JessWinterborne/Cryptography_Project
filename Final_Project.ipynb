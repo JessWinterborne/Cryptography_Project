{
 "cells": [
  {
   "cell_type": "markdown",
   "metadata": {},
   "source": [
    "# Hybrid Cryptography\n",
    "## Samuel Gregg, Jess Winterborne, Jack Roper, Candice Chon"
   ]
  },
  {
   "cell_type": "markdown",
   "metadata": {},
   "source": [
    "# Introduction"
   ]
  },
  {
   "cell_type": "markdown",
   "metadata": {},
   "source": [
    "In this project, we will briefly explore the world of Cryptography. Cryptography is critical in our modern world, from being used to secure text messages, emails, online banking, embedded within cars and used in an ever increasing number of day to day devices such as kettles, toasters, heating systems etc in the Internet of Things (IOT)\n",
    "\n",
    "In this project, we develop functions to encrypt and decrypt messages using the Caesar and Vigenere ciphers which are two examples of extremely simple (unsecure) ciphers. We also delve into the workings of RSA, a cornerstone of internet security, and investigate its security via attempting to break it ourselves with our own implementation of the Pollard Rho method. \n",
    "\n",
    "We then get onto looking at a very simple example of a Hybrid Cryptosystem, which in practise is what is used in the real world. We encrypt our message using the symmetric Vigenere cipher, and encrypt our Vigenere keyword using RSA which is an asymmetric scheme. Now, in practise we have many, many, many additional security features we need to satisfy the basic security services, for example integrity, message authentication, nonrepudiation, availability, physical security etc, which in our project our model certainly does not cover, but it gives a flavour for the real world applications of this. After this, we adapt our hybrid system so it additionaly works with 2 grams.\n",
    "\n",
    "Towards the end of the project, we develop a function to attempt to break our Vigenere cipher via Kasiski analysis. We also investigate the security of RSA compared to our Vigenere Cipher, and see what bit length we need for our RSA key for RSA to be as resistant to attack as our Vigenere cipher is to Kasiski analysis."
   ]
  },
  {
   "cell_type": "code",
   "execution_count": 7,
   "metadata": {},
   "outputs": [],
   "source": [
    "from number_theory_functions import gcd,gcd_ext # Here, we import modules commonly used throughout our code.\n",
    "import itertools, re\n",
    "from random import randrange\n",
    "import matplotlib.pyplot as plt\n",
    "import numpy as np\n",
    "import re"
   ]
  },
  {
   "cell_type": "markdown",
   "metadata": {},
   "source": [
    "## Question 1: \n",
    "In this question we will create functions to encrypt and decrypt messages with the Caesar and Vigenere ciphers. Our ciphers work on alphabetic characters. There are 26 possible keys for our Caesar cipher, but obviously one of these is the trivial shift, so is useless. For each character in the Vigenere key there are 26 possible choices, the lower case letters of the alphabet.\n",
    "(Note: we can replace all the letters in the text with a symbol, and then once we've decrypted the message, feed it back into the string in place of the symbols. This preserves the punctuation and anything else in the correct places. Also, .lower will store which characters were in upper case)"
   ]
  },
  {
   "cell_type": "markdown",
   "metadata": {},
   "source": [
    "### Caesar cipher:"
   ]
  },
  {
   "cell_type": "code",
   "execution_count": 3,
   "metadata": {},
   "outputs": [],
   "source": [
    "def caesar_encrypt(key, message): # Key is integer, message is alphabetic characters (possibly including spaces)\n",
    "    message = message.lower()\n",
    "    Encrypted_Message = \"\" # String to store encrypted message.\n",
    "    for i in message:\n",
    "        if i == \" \": # If we encounter a space:\n",
    "            Encrypted_Message+=\" \" # Add a space to our encrypted message.\n",
    "        else:\n",
    "            Encrypted_Message+=chr(((ord(i) - 97 + key) % 26) + 97) # If not, find the integer representing the unicode character, add the key mod 26, and convert back to a unicode character.\n",
    "    return Encrypted_Message # Once all characters are done, return the encrypted message.\n",
    "\n",
    "def caesar_decrypt(key, message): # Key is an integer, message is encrypted ciphertext.\n",
    "    Decrypted_Message = \"\" # String to store decrypted message.\n",
    "    for i in message:\n",
    "        if i == \" \":\n",
    "            Decrypted_Message+= \" \" # If a space, add a space to plaintext.\n",
    "        else:\n",
    "            Decrypted_Message+=chr(((ord(i) - 97 - key) % 26) + 97) # If not, find the integer representing the unicode character, subtract the key mod 26, and convert back to a unicode character.\n",
    "    return Decrypted_Message # Return the plaintext."
   ]
  },
  {
   "cell_type": "markdown",
   "metadata": {},
   "source": [
    "Here, you can test out the Caesar cipher with randomly generated keys, on a fixed message from Chapter.txt. We also impement encryption and decryption to and from text files."
   ]
  },
  {
   "cell_type": "code",
   "execution_count": 4,
   "metadata": {},
   "outputs": [
    {
     "name": "stdout",
     "output_type": "stream",
     "text": [
      "Our entrypted message is:\n",
      "\n",
      "sgd oqnidbs ftsdmadqf dannj ne z szkd ne svn bhshdr ax bgzqkdr chbjdmr sghr dannj hr enq sgd trd ne zmxnmd zmxvgdqd hm sgd tmhsdc rszsdr zmc lnrs nsgdq ozqsr ne sgd vnqkc zs mn bnrs zmc vhsg zklnrs mn qdrsqhbshnmr vgzsrndudq xnt lzx bnox hs fhud hs zvzx nq qd trd hs tmcdq sgd sdqlr ne sgd oqnidbs ftsdmadqf khbdmrd hmbktcdc vhsg sghr dannj nq nmkhmd zs vvv ftsdmadqf nqf he xnt zqd mns knbzsdc hm sgd tmhsdc rszsdr xnt vhkk gzud sn bgdbj sgd kzvr ne sgd bntmsqx vgdqd xnt zqd knbzsdc adenqd trhmf sghr dannj shskd z szkd ne svn bhshdr z rsnqx ne sgd eqdmbg qdunktshnm ztsgnq bgzqkdr chbjdmr qdkdzrd czsd izmtzqx dannj lnrs qdbdmskx toczsdc cdbdladq kzmftzfd dmfkhrg bgzqzbsdq rds dmbnchmf tse oqnctbdc ax itchsg anrr zmc czuhc vhcfdq rszqs ne sgd oqnidbs ftsdmadqf dannj z szkd ne svn bhshdr z szkd ne svn bhshdr z rsnqx ne sgd eqdmbg qdunktshnm ax bgzqkdr chbjdmr bnmsdmsr annj sgd ehqrs qdbzkkdc s\n",
      "\n",
      "NOTE: This encrypted message has been written to the text file Encrypted Caesar chapter.txt\n",
      "\n",
      "Our decrypted message is:\n",
      "\n",
      "the project gutenberg ebook of a tale of two cities by charles dickens this ebook is for the use of anyone anywhere in the united states and most other parts of the world at no cost and with almost no restrictions whatsoever you may copy it give it away or re use it under the terms of the project gutenberg license included with this ebook or online at www gutenberg org if you are not located in the united states you will have to check the laws of the country where you are located before using this ebook title a tale of two cities a story of the french revolution author charles dickens release date january ebook most recently updated december language english character set encoding utf produced by judith boss and david widger start of the project gutenberg ebook a tale of two cities a tale of two cities a story of the french revolution by charles dickens contents book the first recalled t\n",
      "\n",
      "NOTE: We have decrypted this message from the text file Encrypted Caesar chapter.txt\n",
      "\n",
      "NOTE: This decrypted message has been written to to text file Decrypted Caesar ciphertext.txt\n"
     ]
    }
   ],
   "source": [
    "file = open('chapter.txt') # We open the text file to encrypt from it.\n",
    "chapter = file.read() # Read the text file.\n",
    "file.close()\n",
    "text = \" \".join(re.findall(\"[a-z]+\",chapter.lower())) # Add the characters from a-z, or A-Z but first making them lower case.\n",
    "\n",
    "key = randrange(26) #This picks a random key between 0 and 25\n",
    "encrypt = caesar_encrypt(key,text[:900]) # Use our Caesar encryption function to encrypt our text.\n",
    "print(\"Our entrypted message is:\")\n",
    "print(\"\")\n",
    "print(encrypt)\n",
    "print(\"\")\n",
    "print(\"NOTE: This encrypted message has been written to the text file Encrypted Caesar chapter.txt\")\n",
    "print(\"\")\n",
    "file2 = open('Encrypted Caesar chapter.txt', 'w') # We implement encryption to a text file.\n",
    "file2.write(encrypt)\n",
    "file2.close()\n",
    "\n",
    "file3 = open('Encrypted Caesar chapter.txt') # We decrypt from a text file.\n",
    "ciphertext = file3.read()\n",
    "plaintext = caesar_decrypt(key, ciphertext) # We decrypt our text file.\n",
    "print(\"Our decrypted message is:\")\n",
    "print(\"\")\n",
    "print(plaintext) # We output the plaintext for the user.\n",
    "print(\"\")\n",
    "print(\"NOTE: We have decrypted this message from the text file Encrypted Caesar chapter.txt\")\n",
    "print(\"\")\n",
    "\n",
    "file4 = open('Decrypted Caesar ciphertext.txt', 'w') # We decrypt to a text file.\n",
    "file4.write(plaintext)\n",
    "file4.close()\n",
    "print(\"NOTE: This decrypted message has been written to to text file Decrypted Caesar ciphertext.txt\")"
   ]
  },
  {
   "cell_type": "markdown",
   "metadata": {},
   "source": [
    "Above, we have cracked the Caeser cipher assuming we know the key that has been used. If you do not know this however, you could use a brute force method where you do all the possible 26 shifts and see which shift outputs English. The shift that does will be the plaintext, and the shift needed to generate this will be the key."
   ]
  },
  {
   "cell_type": "code",
   "execution_count": 5,
   "metadata": {},
   "outputs": [
    {
     "name": "stdout",
     "output_type": "stream",
     "text": [
      "Key #0: mabl bl t vtxlxk labymxw fxlltzx\n",
      "Key #1: lzak ak s uswkwj kzaxlwv ewkksyw\n",
      "Key #2: kyzj zj r trvjvi jyzwkvu dvjjrxv\n",
      "Key #3: jxyi yi q squiuh ixyvjut cuiiqwu\n",
      "Key #4: iwxh xh p rpthtg hwxuits bthhpvt\n",
      "Key #5: hvwg wg o qosgsf gvwthsr asggous\n",
      "Key #6: guvf vf n pnrfre fuvsgrq zrffntr\n",
      "Key #7: ftue ue m omqeqd eturfqp yqeemsq\n",
      "Key #8: estd td l nlpdpc dstqepo xpddlrp\n",
      "Key #9: drsc sc k mkocob crspdon wocckqo\n",
      "Key #10: cqrb rb j ljnbna bqrocnm vnbbjpn\n",
      "Key #11: bpqa qa i kimamz apqnbml umaaiom\n",
      "Key #12: aopz pz h jhlzly zopmalk tlzzhnl\n",
      "Key #13: znoy oy g igkykx ynolzkj skyygmk\n",
      "Key #14: ymnx nx f hfjxjw xmnkyji rjxxflj\n",
      "Key #15: xlmw mw e geiwiv wlmjxih qiwweki\n",
      "Key #16: wklv lv d fdhvhu vkliwhg phvvdjh\n",
      "Key #17: vjku ku c ecgugt ujkhvgf oguucig\n",
      "Key #18: uijt jt b dbftfs tijgufe nfttbhf\n",
      "Key #19: this is a caeser shifted message\n",
      "Key #20: sghr hr z bzdrdq rghesdc ldrrzfd\n",
      "Key #21: rfgq gq y aycqcp qfgdrcb kcqqyec\n",
      "Key #22: qefp fp x zxbpbo pefcqba jbppxdb\n",
      "Key #23: pdeo eo w ywaoan odebpaz iaoowca\n",
      "Key #24: ocdn dn v xvznzm ncdaozy hznnvbz\n",
      "Key #25: nbcm cm u wuymyl mbcznyx gymmuay\n"
     ]
    }
   ],
   "source": [
    "message = 'mabl bl t vtxlxk labymxw fxlltzx' # Our encrypted message.\n",
    "letters = 'abcdefghijklmnopqrstuvwxyz' # The letters we have to choose from.\n",
    "\n",
    "for key in range(26): # We have 26 possible keys to check.\n",
    "    shifted = '' # Our potential plaintext.\n",
    "    for char in message:\n",
    "        if char in letters: # If ciphertext character in our cipher alphabet.\n",
    "            num = letters.find(char) # Find the numerical position of the letter\n",
    "            num = (num - key) % 26 # Find the shifted numerical position.\n",
    "            shifted = shifted + letters[num] # Add shifted character to potential plaintext.\n",
    "        else:\n",
    "            shifted = shifted + char # If character not in cipher alphabet, just add to potential plaintext.\n",
    "    print('Key #{}: {}'.format(key, shifted)) # Print out all possible shifts of ciphertext. User identifies the plaintext manually."
   ]
  },
  {
   "cell_type": "markdown",
   "metadata": {},
   "source": [
    "From inspecting the above shifts manually we can see the key used is 19, as the corresponding output is a message in English."
   ]
  },
  {
   "cell_type": "markdown",
   "metadata": {},
   "source": [
    "### Vigenere Cipher:"
   ]
  },
  {
   "cell_type": "code",
   "execution_count": 3,
   "metadata": {},
   "outputs": [],
   "source": [
    "def vigenere_encrypt(keyword, message): # A keyword is used for this cipher instead of a key.\n",
    "    message2 = message.replace(\" \", \"\") # We make a copy of the message, removing any spaces.\n",
    "    Org_Mes = []\n",
    "    for i in message: # Here, we add a space or the number corresponding to the letter in the message.\n",
    "        if i == \" \":\n",
    "            Org_Mes.append(\" \")\n",
    "        else:\n",
    "            Org_Mes.append(ord(i) - 97)\n",
    "    Key_Num = []\n",
    "    Encrypted_Message = \"\" # The encrypted message is an empty string initially.\n",
    "    for i in keyword:\n",
    "        Key_Num.append(ord(i) - 97) # For each keyword letter, find the corresponding number.\n",
    "    Key_For_Char = []\n",
    "    for j in range(0, len(message2)):\n",
    "            Key_For_Char.append(Key_Num[j % len(Key_Num)]) # We iterate through the keyword to match characters in the plaintext.\n",
    "    for k in range(0, len(message)):\n",
    "        if message[k] == \" \":\n",
    "            Key_For_Char.insert(k, \" \") # Adding spaces too.\n",
    "    for l in range(0, len(Org_Mes)):\n",
    "        if Org_Mes[l] == \" \":\n",
    "            Encrypted_Message += \" \" # Add spaces to our encrypted message if required.\n",
    "        else:\n",
    "            Encrypted_Message += chr(((Org_Mes[l] + Key_For_Char[l]) % 26) + 97) # Otherwise, add the character and keyword numbers together, mod 26 and convert back to a character for the ciphertext.\n",
    "    return Encrypted_Message # Function returns the encrypted message.\n",
    "\n",
    "def vigenere_decrypt(keyword, message): # Message here is ciphertext.\n",
    "    message2 = message.replace(\" \", \"\") # Copy message, but remvove all spaces.\n",
    "    Org_Mes = []\n",
    "    for i in message:\n",
    "        if i == \" \":\n",
    "            Org_Mes.append(\" \") # Keep a copy of the spaces, and convert the letters to their numbers.\n",
    "        else:\n",
    "            Org_Mes.append(ord(i) - 97)\n",
    "    Key_Num = []\n",
    "    Decrypted_Message = \"\" # Plaintext is initially a string.\n",
    "    for i in keyword:\n",
    "        Key_Num.append(ord(i) - 97) # Convert the keyword to numerical format.\n",
    "    Key_For_Char = []\n",
    "    for j in range(0, len(message2)):\n",
    "            Key_For_Char.append(Key_Num[j % len(Key_Num)]) # Iterate through the keyword to get to the length of the message.\n",
    "    for k in range(0, len(message)):\n",
    "        if message[k] == \" \": # Add in spaces when required.\n",
    "            Key_For_Char.insert(k, \" \")\n",
    "    for l in range(0, len(Org_Mes)):\n",
    "        if Org_Mes[l] == \" \":\n",
    "            Decrypted_Message += \" \" # Add the spaces to the encrypted message when required.\n",
    "        else:\n",
    "            Decrypted_Message += chr(((Org_Mes[l] - Key_For_Char[l]) % 26) + 97) # Otherwise, subtract the key from the message, mod 26, and convert back to the plaintext letter.\n",
    "    return Decrypted_Message # Return the plaintext.   "
   ]
  },
  {
   "cell_type": "markdown",
   "metadata": {},
   "source": [
    "You can test these encryption/decryption functions out yourself by inputting your chosen keyword, ensuring it is all one word and in lower case. The message that will be encrypted will be a constant piece of text from book.txt."
   ]
  },
  {
   "cell_type": "code",
   "execution_count": 7,
   "metadata": {},
   "outputs": [
    {
     "name": "stdout",
     "output_type": "stream",
     "text": [
      "Please enter a keyword for encryption - only including lower case letters a-z:\n",
      "donk\n",
      "\n",
      "Encrypted message using keyword: donk\n",
      "\n",
      "wvr zucwofh tewsalhft oecbu rt cblrr kqr cbhxhnlqr lb xnxh ohcwsa dkwf oecbu lg syu huo xgr yi oairbr kqmjrhfr sq huo xbvdhr fddhrc dbq wrgg ywvrb soedv cs dks jyuzq kw bb mrgg kqr jswv nvpcfd qc eovhesfhvyqg jrdhfyhjrb bch wdm pysm vd jwio lh ngdm bb us hch wg eqrrb wvr dhfzc rt grh deymspd jigoqprbj zvmhbfo lbpvxrrn zwgr wvvc hpbyn ce yqzvxh og gzk tewsalhft yuu vp bch kus ayw zbmdhrn lb grh iaswsq cwogov mbe zwyv koio wc prhqx dks ykzg bp wvr mriadum jrhfr iri nbh zbmdhrn essyus hclbt dkwf oecbu wwgvh desgs nxg deomiqsfs newvbb moao difdhb eoosnch rndh xhxh soyry zyvh eofsadom hzgogog trluinbb znxjinqh saqowfr fvnbdqgou grd hbpygwaq xhs zucqefsq lb oayqmzyxg iyoiadhsec dbq ndjvn zwqqhf fddfg yi huo sfbthqg qxhrxeseq hpbyn desgs nxg deomiqsfs grhfr sv oa sozhcwfndhr rnlhvyq cs dkwf dlhyo zvvmk ani ywrghr nd hpbyn qbfhf cblrr kqr cbhxhnlqr lb xnxh ohcwsa mrbgoqhf mkocdhf prddgou qukshrb fvnzwse mkocdhf prddgou qukshrb fvnzwse mkocdhf prddgou qukshrb fvnzwse mkocdhf prddgou qukshrb fvn\n",
      "\n",
      "NOTE: This encrypted message has been written to the text file Encrypted Vigenere book.txt\n",
      "\n",
      "Our decrypted message is:\n",
      "\n",
      "the project gutenberg ebook of pride and prejudice by jane austen this ebook is for the use of anyone anywhere in the united states and most other parts of the world at no cost and with almost no restrictions whatsoever you may copy it give it away or re use it under the terms of the project gutenberg license included with this ebook or online at www gutenberg org if you are not located in the united states you will have to check the laws of the country where you are located before using this ebook title pride and prejudice author jane austen release date june ebook most recently updated february language english character set encoding utf produced by anonymous volunteers and david widger start of the project gutenberg ebook pride and prejudice there is an illustrated edition of this title which may viewed at ebook cover pride and prejudice by jane austen contents chapter chapter chapter chapter chapter chapter chapter chapter chapter chapter chapter chapter chapter chapter chapter cha\n",
      "\n",
      "NOTE: We have decrypted this message from the text file Encrypted Vigenere book.txt\n",
      "\n",
      "NOTE: This decrypted message has been written to to text file Decrypted Vigenere book.txt\n"
     ]
    }
   ],
   "source": [
    "import re\n",
    "file = open('book.txt') # Here, we open the text file book.txt to encrypt from it.\n",
    "chapter = file.read()\n",
    "text = \" \".join(re.findall(\"[a-z]+\",chapter.lower())) # We assign the text from the novel to the variable \"text\".\n",
    "\n",
    "print(\"Please enter a keyword for encryption - only including lower case letters a-z:\")\n",
    "User_In = True\n",
    "while User_In == True: # We have 26 possible choices for any character in the key. User must supply a valid key, if not they are prompted again.\n",
    "    keyword = input()# The user enters their own choice of keyword for the vigenere encryption, after the onscreen prompt.\n",
    "    for char in keyword:\n",
    "        if char not in \"abcdefghijklmnopqrstuvwxyz\":\n",
    "            User_In = False\n",
    "    if User_In == False:\n",
    "        User_In = True\n",
    "    else:\n",
    "        User_In = False        \n",
    "print(\"\")\n",
    "encrypt = vigenere_encrypt(keyword,text[:1000]) # We only encrypt the first 1000 characters though.\n",
    "print(\"Encrypted message using keyword:\",keyword)\n",
    "print(\"\")\n",
    "print(encrypt)\n",
    "print(\"\")\n",
    "print(\"NOTE: This encrypted message has been written to the text file Encrypted Vigenere book.txt\")\n",
    "print(\"\")\n",
    "file2 = open('Encrypted Vigenere book.txt', 'w') # We encrypt to the text file.\n",
    "file2.write(encrypt)\n",
    "file2.close()\n",
    "\n",
    "file3 = open('Encrypted Vigenere book.txt') # We decrypt from the text file.\n",
    "ciphertext = file3.read()\n",
    "plaintext = vigenere_decrypt(keyword, ciphertext) # We decrypt our text file.\n",
    "print(\"Our decrypted message is:\")\n",
    "print(\"\")\n",
    "print(plaintext) # We output the plaintext for the user.\n",
    "print(\"\")\n",
    "print(\"NOTE: We have decrypted this message from the text file Encrypted Vigenere book.txt\")\n",
    "print(\"\")\n",
    "\n",
    "file4 = open('Decrypted Vigenere book.txt', 'w') # We decrypt to the text file.\n",
    "file4.write(plaintext)\n",
    "file4.close()\n",
    "print(\"NOTE: This decrypted message has been written to to text file Decrypted Vigenere book.txt\")"
   ]
  },
  {
   "cell_type": "markdown",
   "metadata": {},
   "source": [
    "## Question 2:\n",
    "Above, we tried to crack the Caesar cipher by brute force. This takes a lot of effort though from a processing point of view, especially if your message is really long. In this question, we will be cracking the encrypted Caesar cipher message by a technique called frequency analysis, which compares the frequency of letters in standard, plaintext English with that of our given ciphertext and uses statistical properties of the standard alphabet to immediately deduce the key used. Note, this method will only work with text sufficiently long though as otherwise we simply don't have enough ciphertext letters to get accurate statistical values to do a comparison with."
   ]
  },
  {
   "cell_type": "markdown",
   "metadata": {},
   "source": [
    "To get the distribution of letters in plain English, we will count the frequencies of letters in a book, and plot the results as a bar chart. This gives us an accurate representation of what the distribution of letters should be in the plaintext, and so we can compare this distributon with that of the distribution of letters in the ciphertext, and immediately deduce the key by matching the most common letter in the plaintext (e) with the most common letter in the ciphertext. The shift required for this will be the key for the encryption. Using this key with our Caesar decryption function, we can immediately decrypt the given ciphertext to reveal the plaintext."
   ]
  },
  {
   "cell_type": "code",
   "execution_count": 8,
   "metadata": {},
   "outputs": [
    {
     "name": "stdout",
     "output_type": "stream",
     "text": [
      "These are the frequencies of letters in the text, book.txt,  which are representative of standard English:\n",
      "\n",
      "{'a': 41788, 'b': 9103, 'c': 13549, 'd': 22339, 'e': 69587, 'f': 12014, 'g': 10047, 'h': 34158, 'i': 37819, 'j': 884, 'k': 3217, 'l': 21611, 'm': 14771, 'n': 37738, 'o': 40105, 'p': 8304, 'q': 628, 'r': 32411, 's': 33145, 't': 46781, 'u': 15021, 'v': 5732, 'w': 12321, 'x': 839, 'y': 12721, 'z': 936}\n",
      "\n"
     ]
    },
    {
     "data": {
      "image/png": "[encoded data removed]",
      "text/plain": [
       "<Figure size 432x288 with 1 Axes>"
      ]
     },
     "metadata": {
      "needs_background": "light"
     },
     "output_type": "display_data"
    },
    {
     "name": "stdout",
     "output_type": "stream",
     "text": [
      "This is the encypted letter frequencies, of letters in Wuthering Heights,  to compare to the frequencies of those in book.txt:\n",
      "\n",
      "{'a': 645, 'b': 643, 'c': 173, 'd': 10, 'e': 504, 'f': 584, 'g': 776, 'h': 274, 'i': 109, 'j': 167, 'k': 17, 'l': 170, 'm': 2, 'n': 690, 'o': 118, 'p': 237, 'q': 406, 'r': 1120, 's': 205, 't': 200, 'u': 503, 'v': 653, 'w': 15, 'x': 59, 'y': 374, 'z': 237}\n",
      "\n"
     ]
    },
    {
     "data": {
      "image/png": "[encoded data removed]",
      "text/plain": [
       "<Figure size 432x288 with 1 Axes>"
      ]
     },
     "metadata": {
      "needs_background": "light"
     },
     "output_type": "display_data"
    }
   ],
   "source": [
    "import re\n",
    "file = open('book.txt') # We use book.txt to find the letter distribution in standard English.\n",
    "chapter = file.read()\n",
    "text = \" \".join(re.findall(\"[a-z]+\",chapter.lower())) # We find all lower case letters in the text file, and add them to the string.\n",
    "\n",
    "file = open('message_wuthering_heights.txt') # Here, we open the text file we want to encrypt with our Caesar cipher.\n",
    "chapter = file.read()\n",
    "text1 = \" \".join(re.findall(\"[a-z]+\",chapter.lower())) # We assign the text from the novel to the variable \"text1\".\n",
    "\n",
    "def freq_analysis(string): # We find the frequency of each letter in the book.\n",
    "    letter_freq = {}\n",
    "    for char in letters:\n",
    "        letter_freq[char] = 0\n",
    "    for char in string:\n",
    "        if char in letters:\n",
    "            letter_freq[char]+=1\n",
    "    return letter_freq\n",
    "\n",
    "def plot_distribution(letter_freq): # We plot a bar chart of the distribution.\n",
    "    center = range(len(letters))\n",
    "    plt.bar(letter_freq.keys(), letter_freq.values(), width = 0.75)\n",
    "    plt.xlabel(\"Letters\") # Label the axis.\n",
    "    plt.ylabel(\"Frequency\")\n",
    "    plt.show # Show the bar chart to the user.\n",
    "\n",
    "letterfreq = freq_analysis(text) # This is the dictionary holing the frequency of letters in our text, book.txt.\n",
    "print('These are the frequencies of letters in the text, book.txt,  which are representative of standard English:')\n",
    "print(\"\")\n",
    "print(letterfreq)\n",
    "print()\n",
    "plt.figure()\n",
    "plot_distribution(letterfreq)\n",
    "plt.title(\"Plaintext letter frequency\")\n",
    "plt.show() # Show the plaintext letter frequency to the users. Letters from book.txt.\n",
    "\n",
    "encrypted_message = caesar_encrypt(13,text1) # Encrypt our text with a key of 13.\n",
    "encryptedfreq = freq_analysis(encrypted_message) # Analysis the frequency of letter\n",
    "print('This is the encypted letter frequencies, of letters in Wuthering Heights,  to compare to the frequencies of those in book.txt:')\n",
    "print(\"\")\n",
    "print(encryptedfreq)\n",
    "print()\n",
    "plt.figure()\n",
    "plot_distribution(encryptedfreq)\n",
    "plt.title(\"Ciphertext letter frequency\")\n",
    "plt.show() # Show the ciphertext letter frequency to the user."
   ]
  },
  {
   "cell_type": "markdown",
   "metadata": {},
   "source": [
    "The bar charts show us that the frequencies for the standard English letters and the ciphertext are very similar, and it is very likely the most common letter in the ciphertext, which is r, represents the plaintext letter e. This shift is what we want to work out - it is the key. We show these dictionaries below:"
   ]
  },
  {
   "cell_type": "code",
   "execution_count": 9,
   "metadata": {},
   "outputs": [
    {
     "name": "stdout",
     "output_type": "stream",
     "text": [
      "{'e': 69587, 't': 46781, 'a': 41788, 'o': 40105, 'i': 37819, 'n': 37738, 'h': 34158, 's': 33145, 'r': 32411, 'd': 22339, 'l': 21611, 'u': 15021, 'm': 14771, 'c': 13549, 'y': 12721, 'w': 12321, 'f': 12014, 'g': 10047, 'b': 9103, 'p': 8304, 'v': 5732, 'k': 3217, 'z': 936, 'j': 884, 'x': 839, 'q': 628}\n",
      "book.txt letter frequenices\n",
      "\n",
      "{'r': 1120, 'g': 776, 'n': 690, 'v': 653, 'a': 645, 'b': 643, 'f': 584, 'e': 504, 'u': 503, 'q': 406, 'y': 374, 'h': 274, 'p': 237, 'z': 237, 's': 205, 't': 200, 'c': 173, 'l': 170, 'j': 167, 'o': 118, 'i': 109, 'x': 59, 'k': 17, 'w': 15, 'd': 10, 'm': 2}\n",
      "Ciphertext letter frequencies\n",
      "\n"
     ]
    }
   ],
   "source": [
    "letterfreq2 = dict(sorted(letterfreq.items(), key=lambda item: item[1],reverse=True)) # We show a dictionary of the frequencies of letters in book.txt, with the most frequent letters appearing first.\n",
    "print(letterfreq2) # Show the user the dictionary of frequencies.\n",
    "print('book.txt letter frequenices')\n",
    "print()\n",
    "encryptedfreq2 = dict(sorted(encryptedfreq.items(), key=lambda item: item[1],reverse=True)) # The same as above, but this time the dictionary is for the encrypted message.\n",
    "print(encryptedfreq2) # Show this dictionary to the user also.\n",
    "print('Ciphertext letter frequencies')\n",
    "print()"
   ]
  },
  {
   "cell_type": "markdown",
   "metadata": {},
   "source": [
    "We can see the most frequent letter in the ciphertext is now r, so we very much suspect the message has been shifted by 13 (as r is 13 letters after e).\n",
    "Now we will write a function that immediately decrypts the ciphertext, using the above frequency analysis."
   ]
  },
  {
   "cell_type": "code",
   "execution_count": 10,
   "metadata": {},
   "outputs": [
    {
     "name": "stdout",
     "output_type": "stream",
     "text": [
      "i have just returned from a visit to my landlord the solitary neighbour that i shall be troubled with this is certainly a beautiful country in all england i do not believe that i could have fixed on a situation so completely removed from the stir of society a perfect misanthropist s heaven and mr heathcliff and i are such a suitable pair to divide the desolation between us a capital fellow he little imagined how my heart warmed towards him when i beheld his black eyes withdraw so suspiciously under their brows as i rode up and when his fingers sheltered themselves with a jealous resolution still further in his waistcoat as i announced my name mr heathcliff i said a nod was the answer mr lockwood your new tenant sir i do myself the honour of calling as soon as possible after my arrival to express the hope that i have not inconvenienced you by my perseverance in soliciting the occupation of thrushcross grange i heard yesterday you had had some thoughts thrushcross grange is my own sir he interrupted wincing i should not allow any one to inconvenience me if i could hinder it walk in the walk in was uttered with closed teeth and expressed the sentiment go to the deuce even the gate over which he leant manifested no sympathising movement to the words and i think that circumstance determined me to accept the invitation i felt interested in a man who seemed more exaggeratedly reserved than myself when he saw my horse s breast fairly pushing the barrier he did put out his hand to unchain it and then sullenly preceded me up the causeway calling as we entered the court joseph take mr lockwood s horse and bring up some wine here we have the whole establishment of domestics i suppose was the reflection suggested by this compound order no wonder the grass grows up between the flags and cattle are the only hedge cutters joseph was an elderly nay an old man very old perhaps though hale and sinewy the lord help us he soliloquised in an undertone of peevish displeasure while relieving me of my horse looking meantime in my face so sourly that i charitably conjectured he must have need of divine aid to digest his dinner and his pious ejaculation had no reference to my unexpected advent wuthering heights is the name of mr heathcliff s dwelling wuthering being a significant provincial adjective descriptive of the atmospheric tumult to which its station is exposed in stormy weather pure bracing ventilation they must have up there at all times indeed one may guess the power of the north wind blowing over the edge by the excessive slant of a few stunted firs at the end of the house and by a range of gaunt thorns all stretching their limbs one way as if craving alms of the sun happily the architect had foresight to build it strong the narrow windows are deeply set in the wall and the corners defended with large jutting stones before passing the threshold i paused to admire a quantity of grotesque carving lavished over the front and especially about the principal door above which among a wilderness of crumbling griffins and shameless little boys i detected the date and the name hareton earnshaw i would have made a few comments and requested a short history of the place from the surly owner but his attitude at the door appeared to demand my speedy entrance or complete departure and i had no desire to aggravate his impatience previous to inspecting the penetralium one stop brought us into the family sitting room without any introductory lobby or passage they call it here the house pre eminently it includes kitchen and parlour generally but i believe at wuthering heights the kitchen is forced to retreat altogether into another quarter at least i distinguished a chatter of tongues and a clatter of culinary utensils deep within and i observed no signs of roasting boiling or baking about the huge fireplace nor any glitter of copper saucepans and tin cullenders on the walls one end indeed reflected splendidly both light and heat from ranks of immense pewter dishes interspersed with silver jugs and tankards towering row after row on a vast oak dresser to the very roof the latter had never been under drawn its entire anatomy lay bare to an inquiring eye except where a frame of wood laden with oatcakes and clusters of legs of beef mutton and ham concealed it above the chimney were sundry villainous old guns and a couple of horse pistols and by way of ornament three gaudily painted canisters disposed along its ledge the floor was of smooth white stone the chairs high backed primitive structures painted green one or two heavy black ones lurking in the shade in an arch under the dresser reposed a huge liver coloured bitch pointer surrounded by a swarm of squealing puppies and other dogs haunted other recesses the apartment and furniture would have been nothing extraordinary as belonging to a homely northern farmer with a stubborn countenance and stalwart limbs set out to advantage in knee breeches and gaiters such an individual seated in his arm chair his mug of ale frothing on the round table before him is to be seen in any circuit of five or six miles among these hills if you go at the right time after dinner but mr heathcliff forms a singular contrast to his abode and style of living he is a dark skinned gipsy in aspect in dress and manners a gentleman that is as much a gentleman as many a country squire rather slovenly perhaps yet not looking amiss with his negligence because he has an erect and handsome figure and rather morose possibly some people might suspect him of a degree of under bred pride i have a sympathetic chord within that tells me it is nothing of the sort i know by instinct his reserve springs from an aversion to showy displays of feeling to manifestations of mutual kindliness he ll love and hate equally under cover and esteem it a species of impertinence to be loved or hated again no i m running on too fast i bestow my own attributes over liberally on him mr heathcliff may have entirely dissimilar reasons for keeping his hand out of the way when he meets a would be acquaintance to those which actuate me let me hope my constitution is almost peculiar my dear mother used to say i should never have a comfortable home and only last summer i proved myself perfectly unworthy of one while enjoying a month of fine weather at the sea coast i was thrown into the company of a most fascinating creature a real goddess in my eyes as long as she took no notice of me i never told my love vocally still if looks have language the merest idiot might have guessed i was over head and ears she understood me at last and looked a return the sweetest of all imaginable looks and what did i do i confess it with shame shrunk icily into myself like a snail at every glance retired colder and farther till finally the poor innocent was led to doubt her own senses and overwhelmed with confusion at her supposed mistake persuaded her mamma to decamp by this curious turn of disposition i have gained the reputation of deliberate heartlessness how undeserved i alone can appreciate i took a seat at the end of the hearthstone opposite that towards which my landlord advanced and filled up an interval of silence by attempting to caress the canine mother who had left her nursery and was sneaking wolfishly to the back of my legs her lip curled up and her white teeth watering for a snatch my caress provoked a long guttural gnarl you d better let the dog alone growled mr heathcliff in unison checking fiercer demonstrations with a punch of his foot she s not accustomed to be spoiled not kept for a pet then striding to a side door he shouted again joseph joseph mumbled indistinctly in the depths of the cellar but gave no intimation of ascending so his master dived down to him leaving me vis vis the ruffianly bitch and a pair of grim shaggy sheep dogs who shared with her a jealous guardianship over all my movements not anxious to come in contact with their fangs i sat still but imagining they would scarcely understand tacit insults i unfortunately indulged in winking and making faces at the trio and some turn of my physiognomy so irritated madam that she suddenly broke into a fury and leapt on my knees i flung her back and hastened to interpose the table between us this proceeding aroused the whole hive half a dozen four footed fiends of various sizes and ages issued from hidden dens to the common centre i felt my heels and coat laps peculiar subjects of assault and parrying off the larger combatants as effectually as i could with the poker i was constrained to demand aloud assistance from some of the household in re establishing peace mr heathcliff and his man climbed the cellar steps with vexatious phlegm i don t think they moved one second faster than usual though the hearth was an absolute tempest of worrying and yelping happily an inhabitant of the kitchen made more dispatch a lusty dame with tucked up gown bare arms and fire flushed cheeks rushed into the midst of us flourishing a frying pan and used that weapon and her tongue to such purpose that the storm subsided magically and she only remained heaving like a sea after a high wind when her master entered on the scene what the devil is the matter he asked eyeing me in a manner that i could ill endure after this inhospitable treatment what the devil indeed i muttered the herd of possessed swine could have had no worse spirits in them than those animals of yours sir you might as well leave a stranger with a brood of tigers they won t meddle with persons who touch nothing he remarked putting the bottle before me and restoring the displaced table the dogs do right to be vigilant take a glass of wine no thank you not bitten are you if i had been i would have set my signet on the biter heathcliff s countenance relaxed into a grin come come he said you are flurried mr lockwood here take a little wine guests are so exceedingly rare in this house that i and my dogs i am willing to own hardly know how to receive them your health sir i bowed and returned the pledge beginning to perceive that it would be foolish to sit sulking for the misbehaviour of a pack of curs besides i felt loth to yield the fellow further amusement at my expense since his humour took that turn he probably swayed by prudential consideration of the folly of offending a good tenant relaxed a little in the laconic style of chipping off his pronouns and auxiliary verbs and introduced what he supposed would be a subject of interest to me a discourse on the advantages and disadvantages of my present place of retirement i found him very intelligent on the topics we touched and before i went home i was encouraged so far as to volunteer another visit to morrow he evidently wished no repetition of my intrusion i shall go notwithstanding it is astonishing how sociable i feel myself compared with him\n"
     ]
    }
   ],
   "source": [
    "max_plaintext_letter_num = ord(max(letterfreq2, key=letterfreq2.get)) - 97 # Find the numerical position of most frequent plaintext letter\n",
    "max_ciphertext_letter_num = ord(max(encryptedfreq2, key=encryptedfreq2.get)) - 97 # And ciphertext letter.\n",
    "key = (max_ciphertext_letter_num - max_plaintext_letter_num) % 26 # The difference between these two is the key, mod 26\n",
    "plaintext = caesar_decrypt(key, encrypted_message) # Decrypt the message using the key found above, and our decryption function.\n",
    "print(plaintext) # Output the plaintext to the user."
   ]
  },
  {
   "cell_type": "markdown",
   "metadata": {},
   "source": [
    "## Question 3:"
   ]
  },
  {
   "cell_type": "markdown",
   "metadata": {},
   "source": [
    "In this question we will test the performance of the smallest factor function, from the lecture notes. We will generate random primes p, q initially 16 bits each, and find N = p * q. We will then input N into the smallest factor function, find the time taken by the algorithm for the input, an store the result. We will continue this procedure while the execution time is 15 minutes or less. Then using the data we have generated, we can easily plot the results to get a nice visual representation of our results. We can then conjecture at what bit length the use of our function becomes unfeasible."
   ]
  },
  {
   "cell_type": "code",
   "execution_count": 13,
   "metadata": {},
   "outputs": [],
   "source": [
    "from number_theory_functions import smallest_factor, gcd # We import several modules.\n",
    "from miller_rabin import is_prime\n",
    "from random import getrandbits\n",
    "from time import perf_counter\n",
    "from time import localtime, strftime #Use these only for testing purposes\n",
    "import matplotlib.pyplot as plt\n",
    "from scipy.interpolate import make_interp_spline, BSpline\n",
    "from numpy import linspace\n",
    "\n",
    "smallest_factor_file = \"Smallest Factor Time.txt\" # This text file holds the smallest factor function execution times."
   ]
  },
  {
   "cell_type": "code",
   "execution_count": 14,
   "metadata": {},
   "outputs": [],
   "source": [
    "def get_prime(length = 16): #We generate a random prime of given bit length, initially 16.\n",
    "    while True:\n",
    "        candidate = getrandbits(length)\n",
    "        candidate |= 1 << length - 1 | 1\n",
    "        if is_prime(candidate):\n",
    "            return candidate\n",
    "        \n",
    "def get_N(length = 16): #Returns the product N = p*q, where p, q are two primes of bit length \"length\".\n",
    "    return get_prime(length) * get_prime(length)"
   ]
  },
  {
   "cell_type": "code",
   "execution_count": 15,
   "metadata": {},
   "outputs": [],
   "source": [
    "def timer(func, output, time_limit = 60*15, verbose = True): # Our main function, finding the time of execution.\n",
    "    result = open(output, 'a')\n",
    "    result.write(\"New test done with time limit: {}s\".format(time_limit)) # Writing our results to a text file.\n",
    "    \n",
    "    bit_length = 16 #Initial bit length of primes\n",
    "    run_time = 0 #Initial run time of both smallest_factor and pollard_rho\n",
    "    \n",
    "    while run_time < time_limit: # We only do this for feasible times though.\n",
    "        start = perf_counter()\n",
    "        func(get_N(bit_length))\n",
    "        run_time = perf_counter() - start\n",
    "        res = \"\\nBit length: {} \\t Run time: {}\".format(bit_length, run_time) # The resulting execution time.\n",
    "        \n",
    "        if verbose: #Used to give elapsed time since last decomposition.\n",
    "            print(res)\n",
    "            t = localtime()\n",
    "            current_time = strftime(\"%H:%M:%S\", t)\n",
    "            print(current_time)\n",
    "            \n",
    "        result.write(res) # Write the result to the text file.\n",
    "        bit_length += 1\n",
    "    \n",
    "    result.write(\"\\n\\n\") #Make log file more legible\n",
    "    result.close()\n",
    "    \n",
    "    if verbose:\n",
    "        print(\"\\nEnd of test\") # Show the user the test is complete."
   ]
  },
  {
   "cell_type": "code",
   "execution_count": 16,
   "metadata": {},
   "outputs": [],
   "source": [
    "time_length = 50*15 # 15 minutes as timer limit\n",
    "epochs = 0 # Number of times to run each function, 10 is excessive (gives us a better approximation)\n",
    "for i in range(epochs):\n",
    "    timer(smallest_factor, smallest_factor_file, time_length) "
   ]
  },
  {
   "cell_type": "code",
   "execution_count": 17,
   "metadata": {},
   "outputs": [],
   "source": [
    "def get_data(file_name, smooth = True): # We retrieve the data from the text file for plotting.\n",
    "    file = open(file_name, 'r')\n",
    "    lines = file.readlines()\n",
    "    file.close()\n",
    "    values_dict = {} # We assign an empty dictionary to hold the retrieved data.\n",
    "    \n",
    "    for i in range(len(lines)): # We go through line by line.\n",
    "        if \"Bit length: \" not in lines[i]:\n",
    "            continue\n",
    "        line = lines[i].split(\":\") # We split up the string with the execution time.\n",
    "        bit_length_string = line[1].split(\"\\t\")\n",
    "        bit_length = int(bit_length_string[0]) # The corresponding bit length.\n",
    "        time = float(line[2]) # The corresponding time.\n",
    "        if bit_length not in values_dict.keys():\n",
    "            values_dict[bit_length] = [time]\n",
    "        else:\n",
    "            values_dict[bit_length].append(time)\n",
    "\n",
    "    x_vals = list(values_dict.keys()) # The x values are the bit lengths.\n",
    "    y_vals = [] # The y values are the corresponding execution times.\n",
    "    for i in range(min(x_vals), max(x_vals) + 1):\n",
    "        y_val = sum(values_dict[i]) / len(values_dict[i])\n",
    "        y_vals.append(y_val)\n",
    "    \n",
    "    if smooth:\n",
    "        return smoother(x_vals, y_vals)\n",
    "    \n",
    "    return x_vals, y_vals # We return these lists to be plotted.\n",
    "\n",
    "def smoother(x_vals, y_vals, dim = 300): # We smooth our data out, to get a good graph that shows the important overall trends.\n",
    "    x_smooth = linspace(min(x_vals), max(x_vals), dim) \n",
    "    spl = make_interp_spline(x_vals, y_vals)  # type: BSpline\n",
    "    y_smooth = spl(x_smooth)\n",
    "    return x_smooth, y_smooth # Returning our smoothed datasets."
   ]
  },
  {
   "cell_type": "code",
   "execution_count": 18,
   "metadata": {},
   "outputs": [
    {
     "data": {
      "image/png": "[encoded data removed]",
      "text/plain": [
       "<Figure size 432x288 with 1 Axes>"
      ]
     },
     "metadata": {
      "needs_background": "light"
     },
     "output_type": "display_data"
    }
   ],
   "source": [
    "x_vals, y_vals = get_data(smallest_factor_file, True) # We retrieve our data from the text file.\n",
    "plt.plot(x_vals, y_vals) # Plot the datasets against each other.\n",
    "plt.title(\"Graph showing the execution time of the smallest factor function\")\n",
    "plt.xlabel(\"Bit length of N = p*q\") # Add a title, and axis labels.\n",
    "plt.ylabel(\"Execution time in seconds\")\n",
    "plt.show() # Show the graph to the user."
   ]
  },
  {
   "cell_type": "markdown",
   "metadata": {},
   "source": [
    "### Conjecture:\n",
    "From the above graph of the execution time of the smallest factor function, we can conjecture that the function becomes unfeasible for bit lengths of p, q greater than approximately 32."
   ]
  },
  {
   "cell_type": "markdown",
   "metadata": {},
   "source": [
    "## Question 4:"
   ]
  },
  {
   "cell_type": "markdown",
   "metadata": {},
   "source": [
    "In this question, we implement a function which can efficiently factor very large integers, called the Pollard rho method. We will then perform the same type of analysis of its efficiency as we have done above for the smallest factor function, and plot the results and compare this with the results for the smallest factor function. From this, we can then conjecture at what bit length the use of our function will become unfeasible. NOTE: We have used the information supplied in the pdf document, pollard_rho.pdf, to help us answer this question."
   ]
  },
  {
   "cell_type": "code",
   "execution_count": 19,
   "metadata": {},
   "outputs": [],
   "source": [
    "pollard_rho_file = \"Pollard Rho Time.txt\" # We store the results of execution times in this text file."
   ]
  },
  {
   "cell_type": "code",
   "execution_count": 22,
   "metadata": {},
   "outputs": [],
   "source": [
    "from number_theory_functions import gcd # We import the gcd function from the lecture.\n",
    "def g(x, n): #Define the function for generating next xn in series\n",
    "    return (x ** 2 + 1) % n\n",
    "\n",
    "def pollard_rho(candidate): #Implementation of pollard rho as seen in the pdf.\n",
    "    x = 2 #x, y chosen semi-arbitrarily, 2 seems to be a nice simple starting point\n",
    "    y = 2\n",
    "    d = 1\n",
    "    while d == 1: # Main part of the algorithm:\n",
    "        x = g(x, candidate)\n",
    "        y = g(g(y, candidate), candidate) #y increases twice as fast as x\n",
    "        d = gcd(abs(x - y), candidate)\n",
    "    if d == candidate: #Candidate appears to be prime so gcd with it and any number is itself\n",
    "        return False\n",
    "    return d # Return a divisor of candidate."
   ]
  },
  {
   "cell_type": "code",
   "execution_count": 23,
   "metadata": {},
   "outputs": [],
   "source": [
    "time_length = 50*15 #15 minutes as timer limit\n",
    "epochs = 0 # Number of times to run each function, 10 is excessive. Gives us a better approximation.\n",
    "for i in range(epochs):\n",
    "    timer(pollard_rho, pollard_rho_file, time_length)"
   ]
  },
  {
   "cell_type": "code",
   "execution_count": 24,
   "metadata": {},
   "outputs": [
    {
     "data": {
      "image/png": "[encoded data removed]",
      "text/plain": [
       "<Figure size 432x288 with 1 Axes>"
      ]
     },
     "metadata": {
      "needs_background": "light"
     },
     "output_type": "display_data"
    }
   ],
   "source": [
    "x_vals, y_vals = get_data(pollard_rho_file, True) # Retrieve the data on POllard rho from the text file.\n",
    "plt.plot(x_vals, y_vals) # Plot the data.\n",
    "plt.title(\"Graph showing the execution time of the Pollard rho method\")\n",
    "plt.xlabel(\"Bit length of N = p*q\") # Add a title, and axis labels.\n",
    "plt.ylabel(\"Execution time in seconds\")\n",
    "plt.show() # Show the result to the user."
   ]
  },
  {
   "cell_type": "markdown",
   "metadata": {},
   "source": [
    "As a comparison, we can join these two graphs together and view the results for the execution time of smallest factor and pollard rho together on one single graph:"
   ]
  },
  {
   "cell_type": "code",
   "execution_count": 25,
   "metadata": {},
   "outputs": [
    {
     "data": {
      "image/png": "[encoded data removed]",
      "text/plain": [
       "<Figure size 432x288 with 1 Axes>"
      ]
     },
     "metadata": {
      "needs_background": "light"
     },
     "output_type": "display_data"
    }
   ],
   "source": [
    "x_vals, y_vals = get_data(pollard_rho_file, True) # Pollard rho data.\n",
    "x1_vals, y1_vals = get_data(smallest_factor_file, True) # Smallest factor data.\n",
    "plt.plot(x_vals, y_vals) # Plot both sets of data together.\n",
    "plt.plot(x1_vals, y1_vals)\n",
    "plt.title(\"Graph comparing efficiency of Smallest factor and Pollard rho\")\n",
    "plt.xlabel(\"Bit length\") # Add a title and axis labels.\n",
    "plt.ylabel(\"Execution time in seconds\")\n",
    "plt.show() # Show the graph to the user."
   ]
  },
  {
   "cell_type": "markdown",
   "metadata": {},
   "source": [
    "### Conjecture:\n",
    "From the above graph of the execution time of the Pollard rho method, we can conjecture that the function becomes unfeasible for bit lengths of p, q greater than approximately 50."
   ]
  },
  {
   "cell_type": "markdown",
   "metadata": {},
   "source": [
    "## Question 5:"
   ]
  },
  {
   "cell_type": "markdown",
   "metadata": {},
   "source": [
    "Here, we will rewrite the conversion functions from lectures using only 5 bits to represent the letters and spaces. Since we only have 26 characters (or 27 if we include spaces), we can rewrite the characters in 5 bit binary from 0-26 inclusive. We can do this for individual characters, and then use our code for this to deal with converting strings to integers, which will be very useful for us in our hybrid system using RSA."
   ]
  },
  {
   "cell_type": "code",
   "execution_count": 26,
   "metadata": {},
   "outputs": [],
   "source": [
    "def conversion_letter(letter): #This is our function for a single letter\n",
    "    if letter == ' ':\n",
    "        num_represent = 26 # The number to represent a space.\n",
    "    else:\n",
    "        num_represent = ord(letter) - 97 # ord gives us the unicode number, but we need it to be between 0 and 25 inclusive.\n",
    "    in_binary = bin(num_represent)[2:] # Binary equivelent.\n",
    "    num_zeros = 5 - len(in_binary) #Now we have to make sure the binary string is 5 bits long\n",
    "    for i in range(num_zeros):\n",
    "        in_binary = '0' + in_binary # Add leading zeros if neccessary.\n",
    "    return in_binary\n",
    "\n",
    "def conversion_string(text): # We use the function above for a string now.\n",
    "    #Returns an integer that encodes text - each character is a binary string of 5 bits. We simply concatenate for this.\n",
    "    bin_string = '1' #We start with a leading 1 in case the first letter has a 0 at the beginning\n",
    "    for letter in text:\n",
    "        bin_string = bin_string + conversion_letter(letter) # Concatenate the binary strings, using the above function.\n",
    "    return int(bin_string,2) # Return the corresponding integer.\n",
    "\n",
    "def conversion_text(number): #Convert the integers back to characters. \n",
    "    #Remove '0b1' from the string \n",
    "    bin_string = bin(key_as_int)[3:]\n",
    "    text=''\n",
    "    for i in range(0,len(bin_string),5):\n",
    "        #Pick out binary strings, 5 bits at a time\n",
    "        byte_string = bin_string[i:i+5]\n",
    "        #Convert byte_string to a character before appending it to text\n",
    "        text = text + chr(int(byte_string,2)+ 97)\n",
    "    return text "
   ]
  },
  {
   "cell_type": "markdown",
   "metadata": {},
   "source": [
    "## Question 6:"
   ]
  },
  {
   "cell_type": "markdown",
   "metadata": {},
   "source": [
    "Here, we implement a very basic hybrid cryptosystem. We encrypt and decrypt our message using our Vigenere functions that we implemented above. But, we encrypt and decrypt the keyword used in this Vigenere encryption with RSA. For our message, we simply use the first 1000 lower case letters in the Wuthering Heights text file from blackboard, but this function works in general for any chosen text. In the real world of cryptography, this is the sort of model that is used in practise to secure communications, although two parties are involved in the entire process instead of just one like in our basic example."
   ]
  },
  {
   "cell_type": "code",
   "execution_count": 8,
   "metadata": {},
   "outputs": [
    {
     "name": "stdout",
     "output_type": "stream",
     "text": [
      "Bob's plaintext message:\n",
      "\n",
      "i have just returned from a visit to my landlord the solitary neighbour that i shall be troubled with this is certainly a beautiful country in all england i do not believe that i could have fixed on a situation so completely removed from the stir of society a perfect misanthropist s heaven and mr heathcliff and i are such a suitable pair to divide the desolation between us a capital fellow he little imagined how my heart warmed towards him when i beheld his black eyes withdraw so suspiciously under their brows as i rode up and when his fingers sheltered themselves with a jealous resolution still further in his waistcoat as i announced my name mr heathcliff i said a nod was the answer mr lockwood your new tenant sir i do myself the honour of calling as soon as possible after my arrival to express the hope that i have not inconvenienced you by my perseverance in soliciting the occupation of thrushcross grange i heard yesterday you had had some thoughts thrushcross grange is my own sir he\n",
      "\n",
      "Please enter a keyword to encrypt this message via the Vigenere cipher, lowercase a-z only:\n",
      "\n",
      "duck\n",
      "Bob's inputted keyword: duck\n",
      "Bob's Vigenere encrypted message is:\n",
      "\n",
      "l bcfh dwcw lgdxlpog ztyp u xsvcv dr ga vdhfvrlf dky uyocvkus polajlrot dkuv s vbcvo vg duiwloyf glnj dkcu sv wgbwukxos c lhuwdlzwv fiwxwla sq unv hhivdhf s gi pyw vgvlyxo wbcd l wqeox jkyy hsayf yq u uswocdlip cr wqwsfgdhfa bhgqfhx hbrg vrh mvsu ih crwkows c zhlhofn osvupdklqzlmv c kycfhh cxg gt rhuvrffkpi upn l uto voer d mwswudvh jcsu nq nlpknh njo gyuyouvsrh dowqgoq ou k furswun phfnyz bg vlnvvh cokjcpog bqg ps jodlv gdloog nqgdlfc kco gkyp s eyjoox jsv vnkfe gihm yswbfbdq uy vouzlwkyxmni xhfou njoll dbrqu kv c tygy wz dhf gkyp rlm hsqagbv mjoongbhx vrhguoopgc zcvr d dgkoiwc uyuyoovsrh udlfn pxlvrhl kx kcu gdcudficd dm k kqhqeqwgn ps pkpy ob kycdkwnsiz k cdcf k qif gdm vrh upczyt wu fqmnqqyg sqeu hgg wypkqn usu c fy psuooz vrh bqxrot yi wcvocpq dm uyrh cc siuclvno dzvou ga kulkfdf vy hrrbhmu dky jysy vrdn k rdpg xrn kxfipfhhkoqwgn biw lb ga zhluoyytkqwg sq mqvlwkdlhi dky qmforkwcqx rz vruourflqcv atkqag s kycbg sgcwytnds ayx bcn kuf crgg dkiwqknu dklwckwtyvm ibdhio lm oi rqp cll jo\n",
      "\n",
      "Alice's public key is (N,e) where:\n",
      "\n",
      "N = \n",
      "1621805940545315945174632197454780341958092042525672405799866751763193796716480215170866052437099939976242606978310207862338244051354579033810566130443370672785955598871200585176629195381152288185005489443602343507390963520367534214222766566750488609319964795770879087207718664889655025211168412924846170401078469295691411901298125640833640937518609295715230109284107846251207576746188539893513630818384489036073630009090776611168553289903732124740790502219315881185994443227203044486270601031572739146705588412893096750736827442358618035538749389741685719442502852411098249472779378976402192153642975850858519554479\n",
      "\n",
      "e = 65537\n",
      "\n",
      "\n",
      "Bob's keyword as an integer is  5980382059\n",
      "Bob has encrypted his integer keyword via RSA, which is:\n",
      "\n",
      "c = \n",
      "627443828259036386099073869869261926479935587632232930719009246826582534956966612898438015239334084525960245644611488471319972425058064667233107760476476275815395192900075221710637570405816198179849855970544658606599113832936422986097763494203827818261924142750834378042270676481572635102217668645320839358708979415692581604153985794511420649606854712986403844263214669599669691074677678765755066034282973402672715402090876191328600221867773388921020493576170134952187106166032646809556304119813365933846759100145832296880055910968693320146890811797143218419130119082146838940198929333118790178128072677661304070101\n",
      "\n",
      "Now, we decrypt the key encrypted with RSA back to its integer format, shown above\n",
      "\n",
      "Alice has generated the original Vigenere cipher key now\n",
      "\n",
      "The result of Alice's decryption is as follows.\n",
      "Original Vigenere Key = \n",
      "\n",
      "duck\n",
      "\n",
      "Decrypted Vigenere message:\n",
      "\n",
      "i have just returned from a visit to my landlord the solitary neighbour that i shall be troubled with this is certainly a beautiful country in all england i do not believe that i could have fixed on a situation so completely removed from the stir of society a perfect misanthropist s heaven and mr heathcliff and i are such a suitable pair to divide the desolation between us a capital fellow he little imagined how my heart warmed towards him when i beheld his black eyes withdraw so suspiciously under their brows as i rode up and when his fingers sheltered themselves with a jealous resolution still further in his waistcoat as i announced my name mr heathcliff i said a nod was the answer mr lockwood your new tenant sir i do myself the honour of calling as soon as possible after my arrival to express the hope that i have not inconvenienced you by my perseverance in soliciting the occupation of thrushcross grange i heard yesterday you had had some thoughts thrushcross grange is my own sir he\n"
     ]
    }
   ],
   "source": [
    "from random import SystemRandom, randint # Here we import the required modules from the lectures.\n",
    "from miller_rabin import is_prime\n",
    "from conversion_functions import convert_to_integer,convert_to_text\n",
    "\n",
    "file = open('message_wuthering_heights.txt') # We open a text file to encrypt.\n",
    "chapter = file.read()\n",
    "import re\n",
    "text = \" \".join(re.findall(\"[a-z]+\",chapter.lower()))\n",
    "\n",
    "print(\"Bob's plaintext message:\")\n",
    "print(\"\")\n",
    "print(text[:1000]) # We use the first 1000 characters of the text file as plaintext.\n",
    "print(\"\")\n",
    "print(\"Please enter a keyword to encrypt this message via the Vigenere cipher, lowercase a-z only:\")\n",
    "print(\"\")\n",
    "User_In = True\n",
    "while User_In == True: # We have 26 possible choices for any character in the key. User must supply a valid key, if not they are prompted again.\n",
    "    keyword = input()# The user enters their own choice of keyword for the vigenere encryption, after the onscreen prompt.\n",
    "    for char in keyword:\n",
    "        if char not in \"abcdefghijklmnopqrstuvwxyz\":\n",
    "            User_In = False\n",
    "    if User_In == False:\n",
    "        User_In = True\n",
    "    else:\n",
    "        User_In = False    \n",
    "print(\"Bob's inputted keyword: \" + keyword)\n",
    "encrypt = vigenere_encrypt(keyword,text[:1000]) # Here, we encrypt the first 1000 characters of the text file.\n",
    "print(\"Bob's Vigenere encrypted message is:\\n\")\n",
    "print(encrypt) # We show the user the encrypted text.\n",
    "print(\"\")\n",
    "\n",
    "def random_prime(bit_length): # We need to find two random 1024 bit prime numbers. Using function from the lectures.\n",
    "    while True:\n",
    "        p = SystemRandom().getrandbits(bit_length)  \n",
    "        if is_prime(p):\n",
    "            return p\n",
    "\n",
    "def rsa_p_q(bit_length): # Here, we generate p and q, 1024 bit prime numbers.\n",
    "    p = random_prime(bit_length)\n",
    "    q = random_prime(bit_length)\n",
    "    return (p,q)\n",
    "(p,q) = rsa_p_q(1024)\n",
    "\n",
    "def rsa_public_key(p,q, e = 65537): # We generate the public key here. It is the key pair (N, e). e is set to 65537 as a standard.\n",
    "    N = p*q\n",
    "    return (N,e)\n",
    "(N,e) = rsa_public_key(p,q) # N = p * q\n",
    "print(\"Alice's public key is (N,e) where:\\n\")\n",
    "print(\"N = \")\n",
    "print(N) # Outputting the public key for the user.\n",
    "print(\"\\ne = {}\".format(e))\n",
    "print(\"\")\n",
    "\n",
    "key = convert_to_integer(keyword) # Using the function from the lectures to get plaintext m as an integer.\n",
    "print(\"\")\n",
    "print(\"Bob's keyword as an integer is \", key)\n",
    "\n",
    "def rsa_encrypt(key, N, e):  \n",
    "    return pow(key, e, N)\n",
    "c = rsa_encrypt(key, N, e)\n",
    "print(\"Bob has encrypted his integer keyword via RSA, which is:\")\n",
    "print(\"\\nc = \")\n",
    "print(c)\n",
    "print(\"\")\n",
    "\n",
    "def modular_inverse(a,n): # Finds the modular inverse of a mod n.\n",
    "        (g,x,y)=gcd_ext(a,n)\n",
    "        if g==1:\n",
    "            return x%n\n",
    "        else:\n",
    "            return None \n",
    "        if gcd(m,n)!=1:\n",
    "            return None\n",
    "\n",
    "def rsa_decrypt(c,p,q,N,e): \n",
    "    totient = N - (p + q) + 1       # This is (p-1)*(q-1)\n",
    "    f = modular_inverse(e,totient)  # Note: f * e = 1 (mod totient)\n",
    "    return pow(c,f,N) \n",
    "key_new = rsa_decrypt(c,p,q,N,e) # Returns integer format of the key\n",
    "print(\"Now, we decrypt the key encrypted with RSA back to its integer format, shown above\")\n",
    "print(\"\")\n",
    "original_key = convert_to_text(key_new) # We use the lecture function convert_to_text to convert back to a keyword for Vigenere.\n",
    "print(\"Alice has generated the original Vigenere cipher key now\")\n",
    "print(\"\")\n",
    "print(\"The result of Alice's decryption is as follows.\")\n",
    "print(\"Original Vigenere Key = \")\n",
    "print(\"\")\n",
    "print(original_key) # SHow the user the original key.\n",
    "print(\"\")\n",
    "\n",
    "decrypt = vigenere_decrypt(original_key,encrypt) # Decrypt the ciphertext with the key. \n",
    "print(\"Decrypted Vigenere message:\")\n",
    "print(\"\")\n",
    "print(decrypt) # Show the plaintext to the user again."
   ]
  },
  {
   "cell_type": "markdown",
   "metadata": {},
   "source": [
    "## Question 7:"
   ]
  },
  {
   "cell_type": "markdown",
   "metadata": {},
   "source": [
    "In this question, we will redesign our above system so that it will instead work on bigrams of letters, instead of single letters. A bigram is simply a string of 2 letters. For each letter in the alphabet, we will store several bigrams that represent the same letter. The main advantage of this type of system is that it disguises the frequencies of letters throught the ciphertext, so frequency analysis becomes very difficult. We will encode our plaintext with randomly chosen bigrams for each letter in turn, and then use our Vigenere encryption function to encrypt this message. The keyword and the encoding information will be encrypted using RSA. The RSA encrypted keys will be decrypted, and we will be able to generate our encoded plaintext again. We will then simply reverse the encoding with the bigrams, and then obtain our unencoded, plaintext message again. "
   ]
  },
  {
   "cell_type": "code",
   "execution_count": 36,
   "metadata": {
    "scrolled": false
   },
   "outputs": [
    {
     "name": "stdout",
     "output_type": "stream",
     "text": [
      "The plaintext we are going to use for encryption is the following:\n",
      "\n",
      "the project gutenberg ebook of a tale of two cities by charles dickens this ebook is for the use of anyone anywhere in the united states and most other parts of the world at no cost and with almost no restrictions whatsoever you may copy it give it away or re use it under the terms of the project gutenberg license included with this ebook or online at www gutenberg org if you are not located in the united states you will have to check the laws of the country where you are located before using this ebook title a tale of two cities a story of the french revolution author charles dickens release date january ebook most recently updated december language english character set encoding utf produced by judith boss and david widger start of the project gutenberg ebook a tale of two cities a tale of two cities a story of the french revolution by charles dickens contents book the first recalled to life chapter i the period chapter ii the mail chapter iii the night shadows chapter iv the prepara\n",
      "\n",
      "Once we have encoded the text with bigrams, we get the following:\n",
      "\n",
      "shzjnh tjqvwflpgxdish zwzpdjrtnuqrmfrmkt ercowfqdhy qdgh uo djuompbl egpq shahqd zadrfkdrjyym qrbk epzjihwblogxtn tydrephyernuag djzjiqym jyqrwfegju drtn jxegqv shzjjy zpagnh egjx thybjmwftvbl uonujmgdglgxrmmf iqtv djzjjy uctviqfkrtlu tnfkuodjnhag uonuxa vregagsh wfdjuamfrm rhthrmfktn wfpq fkglrt ahwfwbmpty thsh ybwf epegtnsh thyblu budrshgl thnivrqdagsh ybeg qvbltndjqvdrdishbzqdybym gdzjihfkymqdgxbpmfrm jmqduc dxthcy diegykcy iqdj amiqbpmf iqfk ihahthjm qdqv wbgx ucagrt bzsh zpnutyjywb fkgler djmfqvvrym wfpq fkgler tjrmwfdeblzadj zwucdjertvxbgxrmam mpdrzagxybager bznuepmpzplumflu gdiqdjgl djgldrag jyxbqdegju egqv egybnidrnurt ihfk ahbubu zwzpshnhnucoblqvzw qdwbzw iqpq jmeguc uowbnh nuqddj loegdithfkblxa bztv djzjbl ucnubzdjblty tnfkihdjnhtn bkqdzp gddrnini uathvinh djeg epzjbldiju shzjrt nithahag qdpq djgler zaqdzptvshwbjm buglerqvmf cyqdzp uormgx mpwfepthshrtlu cortjxwfqvnh zptniqnuzw shzjdrtn jyxbqdwfju fkbzfklogx th djuologx eggh fkgdwf epiqshiqrtym uo agshwfrmjm egpq shzjer ghqvjynuepua qvnhmqegmpucdjiqwftv ihucfkuaegwb zazjihrmninhag tyiqepjujytvag rmnhlobluoaggx luuoshbl deuonuucthqvcy gxxbwfqdgt btqdymdj qvmfepjyybdjmpcy ucrhxauodjmflu xaerdimfvrxbjywb niuonuamoxihzwgx nhybamnibztngl epzjuowbthdifkrtrm tnmffk nhtvepqdludrtvam zpfkgh rhrmwfluoxdierlu qrjm lpzpxaiqfkgl xbwfymtn ihnuxa luihmqdrlu gdbztyzwmfrm tnshihqvfk qdpq djzjnh ykrmqdfrjyzafk zwoxfkerybqrblrmkt erqrqdqdhy ih fkthmpgx qdjx fkahqd epbzshiqerym th shihlort egjx djbuwf dibzshiqbltn th tnfkegqvbk qdpq fkuagx jxwbrttvdiua wbblbpeglooxfkdrwfyb xbbk zazjihwbmpmfag xaiqdijujyybym epqdtvshgxnushag qregqdgt djuabl jxiqrmymdj qvmfdiihmpnijylu shqd mpbzgher zaglthykdjnhqv bz djuaer rhgxrmdregxa zazjthykdjnhwb iqbz djglrt dxthbzlo diglthtjdjjyrm iqbzbz djglmf ybiqzwzjfk tnuathlueggdtn zauaihrhfkjyqv drbp shglgx tjwbrttjihwbuo\n",
      "\n",
      "Please enter a keyword to encrypt this message via the Vigenere cipher:\n",
      "\n",
      "donk\n",
      "After all the required steps, we get the following, unencoded plaintext back again:\n",
      "\n",
      "theprojectgutenbergebookofataleoftwocitiesbycharlesdickensthisebookisfortheuseofanyoneanywhereintheunitedstatesandmostotherpartsoftheworldatnocostandwithalmostnorestrictionswhatsoeveryoumaycopyitgiveitawayorreuseitunderthetermsoftheprojectgutenberglicenseincludedwiththisebookoronlineatwwwgutenbergorgifyouarenotlocatedintheunitedstatesyouwillhavetocheckthelawsofthecountrywhereyouarelocatedbeforeusingthisebooktitleataleoftwocitiesastoryofthefrenchrevolutionauthorcharlesdickensreleasedatejanuaryebookmostrecentlyupdateddecemberlanguageenglishcharactersetencodingutfproducedbyjudithbossanddavidwidgerstartoftheprojectgutenbergebookataleoftwocitiesataleoftwocitiesastoryofthefrenchrevolutionbycharlesdickenscontentsbookthefirstrecalledtolifechapteritheperiodchapteriithemailchapteriiithenightshadowschapterivtheprepara\n"
     ]
    }
   ],
   "source": [
    "import random # We import the neccessary modules for this question here.\n",
    "import re\n",
    "from conversion_functions import convert_to_integer,convert_to_text\n",
    "file = open('chapter.txt')  # We use chapter.txt for this question.\n",
    "chapter = file.read() \n",
    "file.close()\n",
    "text = (\" \".join(re.findall(\"[a-z]+\",chapter.lower())))[:1000] # In particular, we use the first 1000 lower case letters.\n",
    "\n",
    "print(\"The plaintext we are going to use for encryption is the following:\")\n",
    "print(\"\")\n",
    "print(text)\n",
    "print(\"\")\n",
    "\n",
    "#Randomly encode our text before implementing the Vigenere cipher.\n",
    "#Create a dictionary so that each letter can be randomly mapped to different bigrams as a key.\n",
    "multidict = {\n",
    "    'a': ['uo','th','ih'],'b': ['co','xb','qr'],'c': ['di','za','ep'],'d': ['lu','xa','ty'],\n",
    "    'e': ['bl','er','mf','rt','jy','gx','nh'],'f': ['gh','pq','jx'],'g': ['am','zw','kt'],'h': ['zj','gl','ua'],\n",
    "    'i': ['bz','dr','iq'],'j': ['lp','de','fr'],'k': ['gt','hy','ju'],'l': ['lo','mp','ni'],\n",
    "    'm': ['dx','vr','bt'],'n': ['tv','yb','nu'],'o': ['qd','wf','eg'],'p': ['rh','tj','yk'],\n",
    "    'q': ['ul','ip','zc'],'r': ['qv','wb','rm'],'s': ['tn','ym','ag'],'t': ['sh','dj','fk'],\n",
    "    'u': ['zp','ox','uc'],'v': ['vi','bp','mq'],'w': ['ah','bu','gd'],'x': ['tp','ds','sl'],\n",
    "    'y': ['bk','cy','jm'],'z': ['ks','jd','lh']} # The dictionary holding bigrams for each letter.\n",
    "\n",
    "#Save the keys into one string.\n",
    "alphabet = 'abcdefghijklmnopqrstuvwxyz'\n",
    "result ='' # Our encoded text using bigrams for each letter randomly.\n",
    "for letter in text: # Iterting through each letter:\n",
    "    if letter in list(multidict.keys()):\n",
    "        result+= random.choice(list(multidict.values())[alphabet.find(letter)]) # Randomly choose a bigram for the current letter.\n",
    "    else:\n",
    "        result+=letter  \n",
    "\n",
    "print(\"Once we have encoded the text with bigrams, we get the following:\")\n",
    "print(\"\")\n",
    "print(result)\n",
    "print(\"\")\n",
    "                   \n",
    "print(\"Please enter a keyword to encrypt this message via the Vigenere cipher:\") # The user now supplies a keyword for Vigenere encryption.\n",
    "print(\"\")\n",
    "User_In = True\n",
    "while User_In == True: # We have 26 possible choices for any character in the key. User must supply a valid key, if not they are prompted again.\n",
    "    keyword = input()# The user enters their own choice of keyword for the vigenere encryption, after the onscreen prompt.\n",
    "    for char in keyword:\n",
    "        if char not in \"abcdefghijklmnopqrstuvwxyz\":\n",
    "            User_In = False\n",
    "    if User_In == False:\n",
    "        User_In = True\n",
    "    else:\n",
    "        User_In = False         \n",
    "        \n",
    "encrypt = vigenere_encrypt(keyword,result) # We encrypt our randomly encoded message with the chosen keyword by Vigenere.\n",
    "#Append encoding information to the Vigenere key, saving them together as a string.\n",
    "string = keyword + \"_uothih_coxbqr_dizaep_luxaty_blermf_ghpqjx_amzwkt_zjglua_bzdriq_lpdefr_gthyju_lompni_dxvrbt_tvybnu_qdwfeg_rhtjyk_ulipzc_qvwbrm_tnymag_shdjfk_zpoxuc_vibpmq_ahbugd_tpdssl_bkcyjm_ksjdlh\"\n",
    "#Slice the string into two parts, covert them into integers.\n",
    "key_as_int = convert_to_integer(string[:len(keyword)]) # The Vigenere encryption keyword part, converted to integer\n",
    "letter_as_int = convert_to_integer(string[len(keyword)+1:]) # Our encoding information as a key, converted to an integer.\n",
    "(p,q) = rsa_p_q(1024) # Generate our RSA primes.\n",
    "(N,e) = rsa_public_key(p,q,e = 65537) # ANd the public key.\n",
    "c1 = rsa_encrypt(key_as_int, N, e)\n",
    "c2 = rsa_encrypt(letter_as_int, N, e) # RSA encrypt both the integer keyword and integer encoding key.\n",
    "d1 = rsa_decrypt(c1,p,q,N,e)\n",
    "d2 = rsa_decrypt(c2,p,q,N,e) # RSA decrypt the above.\n",
    "keyword_as_text = convert_to_text(d1)\n",
    "encoding_as_text = convert_to_text(d2) # Convert the results back to text.\n",
    "decrypted_vigenere = vigenere_decrypt(keyword_as_text, encrypt) # We get back our original plaintext bigram encoded message.\n",
    "decrypted_vigenere = decrypted_vigenere.replace(' ', '') # Remove whitespace for simplicity\n",
    "Bigrams = [decrypted_vigenere[i:i+2] for i in range(0, len(decrypted_vigenere), 2)] # Break the text into bigrams.\n",
    "inverted_dict = {}\n",
    "for key, value in multidict.items():\n",
    "    for x in value: # Here, we invert the dictionary so we can convert the bigrams we have back into a single letter.\n",
    "        inverted_dict.setdefault(x,[]).append(key)\n",
    "plaintext_encoding = \"\" # Unencoded plaintext.\n",
    "for bigram in Bigrams:\n",
    "    plaintext_encoding+=((inverted_dict[bigram][0])) # Convert back to the corresponding single letter.\n",
    "print(\"After all the required steps, we get the following, unencoded plaintext back again:\")\n",
    "print(\"\")\n",
    "print(plaintext_encoding) # Return the unencoded plaintext, and present it to the user."
   ]
  },
  {
   "cell_type": "markdown",
   "metadata": {},
   "source": [
    "### Security discussion:\n",
    "Firstly, the RSA encryption part of the procedure still remains incredibly strong here. For our Pollard rho function, it was feasible for use on primes of bit length 50 and below, so with primes of bit length 1024 we are comfortably secure here. The main difference between this system and that of Question 6 is with the introduction of bigrams, instead of single letters. This does add some security to our system compared to that of Question 6, by disguising the frequencies of letters used throught the text makes frequency analysis very difficult indeed here which has significant implications for our system developed in Question 9. For example in our system here the single letter e has 7 possible representations as a bigram in our encoded plaintext. So overall, this sytem is stronger than that of Question 6."
   ]
  },
  {
   "cell_type": "markdown",
   "metadata": {},
   "source": [
    "## Question 8:"
   ]
  },
  {
   "cell_type": "markdown",
   "metadata": {},
   "source": [
    "In this question, we will modify our system so that it works in a similar manner to Question 7, but we also allow our messages to contain numbers, punctuation and whitespace. We will make use of the full set of 650 distinct bigrams here, so each possible character in the plaintext will have many more possible encoded bigram representations than in Question 7. We will then use this to encrypt and decrypt the text files chapter.txt and book.txt directly."
   ]
  },
  {
   "cell_type": "code",
   "execution_count": 9,
   "metadata": {},
   "outputs": [
    {
     "name": "stdout",
     "output_type": "stream",
     "text": [
      "Input your keyword here\n",
      "\n",
      "rubber\n",
      "After all the required steps, we get the following, unencoded plaintext back again:\n",
      "\n"
     ]
    }
   ],
   "source": [
    "import random # We import several modules for use.\n",
    "from random import randint\n",
    "import re\n",
    "letters = \"abcdefghijklmnopqrstuvwxyz\"\n",
    "Bigrams = []\n",
    "for i in letters: # Here, we generate all possible 650 bigrams to use in the question.\n",
    "    for j in letters:\n",
    "        Bi = \"\"\n",
    "        if i != j:\n",
    "            Bi+=i\n",
    "            Bi+=j\n",
    "            Bigrams.append(Bi)\n",
    "Allowed_Chars = \"abcdefghijklmnopqrstuvwxyz0123456789.?*!:;`/(-)< \" # We now allow numbers, punctuation and whitespace.\n",
    "Bigrams1 = Bigrams[:]\n",
    "random.shuffle(Bigrams1)\n",
    "Bigram_Holder_Dict = {}\n",
    "Bigrams_Thirteen = [Bigrams1[i:i+13] for i in range(0, len(Bigrams1), 13)] # For each allowed character, assign 13 possible bigrams to encode that character with.\n",
    "for i in range (0, len(Allowed_Chars)):\n",
    "    Bigram_Holder_Dict[Allowed_Chars[i]] = Bigrams_Thirteen[i]\n",
    "\n",
    "Bigram_Copy = str(Bigram_Holder_Dict) # We must slice this more than twice for RSA transmission.\n",
    "\n",
    "file = open('book.txt') # The user has the choice here whether to use chapter.txt or book.txt, it works for both. Just comment out the one they dont want.\n",
    "#file = open('chapter.txt')  # We use chapter.txt for this question.\n",
    "chapter = file.read() \n",
    "file.close()\n",
    "text = (\" \".join(re.findall(\"[abcdefghijklmnopqrstuvwxyz0123456789.?*!:;`/(-)<~]+ \",chapter.lower())))\n",
    "\n",
    "#print(text)\n",
    "#commented out for notebook readability\n",
    "\n",
    "result = \"\" # Our encoded text using bigrams for each letter randomly.\n",
    "for letter in text: # Iterting through each letter:\n",
    "    if letter in list(Bigram_Holder_Dict.keys()):\n",
    "        random_int = randint(0, 12)\n",
    "        Bigram_Choice = (Bigram_Holder_Dict[letter])[random_int]\n",
    "        result+=Bigram_Choice\n",
    "    else:\n",
    "        result+=letter  \n",
    "print('Input your keyword here')\n",
    "print()\n",
    "User_In = True\n",
    "while User_In == True: # We have 26 possible choices for any character in the key. User must supply a valid key, if not they are prompted again.\n",
    "    keyword = input()# The user enters their own choice of keyword for the vigenere encryption, after the onscreen prompt.\n",
    "    for char in keyword:\n",
    "        if char not in \"abcdefghijklmnopqrstuvwxyz\":\n",
    "            User_In = False\n",
    "    if User_In == False:\n",
    "        User_In = True\n",
    "    else:\n",
    "        User_In = False         \n",
    "        \n",
    "encrypt = vigenere_encrypt(keyword,result) # Vigenere encrypt our encoded message.\n",
    "(p,q) = rsa_p_q(1024) # Generate our RSA primes.\n",
    "(N,e) = rsa_public_key(p,q,e = 65537) # ANd the public key.\n",
    "string_to_send = [Bigram_Copy[i:i+100] for i in range(0, len(Bigram_Copy), 100)] # We break our encoding data into 100 strings.\n",
    "key_as_int = convert_to_integer(keyword) # The vigenere keyword used is converted to an integer before RSA.\n",
    "key_rsa = rsa_encrypt(key_as_int, N, e)\n",
    "key_decrypt = rsa_decrypt(key_rsa, p, q, N, e)\n",
    "key_as_a_text = convert_to_text(key_decrypt) # We arrive back at our keyword.\n",
    "Int_Strings = []\n",
    "for strings in string_to_send: # Convert all 100 string to integers, RSA encrypt and decrypt them and convert them back to text.\n",
    "    Int_Strings.append(convert_to_integer(strings))\n",
    "RSA_Encrypted = []\n",
    "for ints in Int_Strings:\n",
    "    RSA_Encrypted.append(rsa_encrypt(ints, N, e))\n",
    "RSA_Decrypted = []\n",
    "for ints in RSA_Encrypted:\n",
    "    RSA_Decrypted.append(rsa_decrypt(ints,p,q,N,e))\n",
    "Plain_Text = []\n",
    "for ints in RSA_Decrypted:\n",
    "    Plain_Text.append(convert_to_text(ints))\n",
    "Org_Dict = \"\"\n",
    "for item in Plain_Text: # Rebuild the original encoding dictionary\n",
    "    Org_Dict+=item\n",
    "Org_Dict1 = eval(Org_Dict) # We now convert the string format of the dictionary back into an actual dictionary.\n",
    "    \n",
    "decrypted_vigenere = vigenere_decrypt(key_as_a_text, encrypt) # Decrypt our vigenere\n",
    "decrypted_vigenere = decrypted_vigenere.replace(' ', '')\n",
    "Bigrams = [decrypted_vigenere[i:i+2] for i in range(0, len(decrypted_vigenere), 2)] # Form into bigrams for conversion back to a single character.\n",
    "       \n",
    "inverted_dict = {}\n",
    "for key, value in Org_Dict1.items():\n",
    "    for x in value: # Here, we invert the dictionary so we can convert the bigrams we have back into a single letter.\n",
    "        inverted_dict.setdefault(x,[]).append(key)\n",
    "plaintext_encoding = \"\" # Unencoded plaintext.\n",
    "for bigram in Bigrams:\n",
    "    plaintext_encoding+=((inverted_dict[bigram][0])) # Convert back to the corresponding single letter.\n",
    "print(\"After all the required steps, we get the following, unencoded plaintext back again:\")\n",
    "print(\"\")\n",
    "#print(plaintext_encoding) # Return the unencoded plaintext, and present it to the user.\n",
    "#commented out for notebook readability\n",
    "\n",
    "file3 = open(\"Fully Encrypted chapter or book.txt\", 'w') # We directly encrypt chapter/book.txt here and write it to a text file.\n",
    "file3.write(encrypt)\n",
    "file3.close()\n",
    "\n",
    "file4 = open(\"Fully Decrypted Fully Encrypted chapter or book.txt\", 'w') # We decrypt the encrypted chapter/book.txt and write it to a text file.\n",
    "file4.write(plaintext_encoding)\n",
    "file4.close()"
   ]
  },
  {
   "cell_type": "markdown",
   "metadata": {},
   "source": [
    "## Question 9:"
   ]
  },
  {
   "cell_type": "markdown",
   "metadata": {},
   "source": [
    "In this question, we will write a function to crack the Vigenere cipher using a method called Kasiski analysis. Kasiski analysis consists of multiple stages: \n",
    "\n",
    "We first find repeated sequences in the text, maybe of length 3 - 5. This corresponds to short words used repeatidly throughout the entire text, for example 'the' or 'and' or 'there'.\n",
    "\n",
    "Next, we look at the spacing between these sequences. As they must have been encrypted by the key in the same order, the lengths between the SAME sequences must be multiples of the key length. From factorisng these legnths, we can find the most common factors, and use these as our guess for the length of the key.\n",
    "\n",
    "Once we have a length of the key, say n, we can pull out every nth letter, n times. This means we will now have n seperate strings, each encrypted with a Caesar cipher. \n",
    "\n",
    "Now we have multiple Caesar encrypted messages, we can use our Frequency analyis decrypter code on each message, and it turn decrypt the entire message. "
   ]
  },
  {
   "cell_type": "code",
   "execution_count": 31,
   "metadata": {},
   "outputs": [
    {
     "name": "stdout",
     "output_type": "stream",
     "text": [
      "Repeated sequences used throughout the text are:\n",
      "\n",
      "{'grs': [194, 458, 498, 602, 898, 1082, 1810, 1826, 1858, 1914, 2418, 2546, 2954, 5346, 5922, 5946, 6290, 6626, 6794, 7434, 7786], 'gpx': [285, 413, 1029, 1445, 1997, 2053, 2085, 2621, 2813, 2869, 3149, 3213, 3373, 5573, 5933, 6301, 6509, 7989, 8277, 8757], 'dvr': [659, 723, 1291, 1467, 1971, 2011, 2043, 2259, 2299, 2779, 2883, 3891, 3907, 4147, 4955, 6875, 7195, 7355, 7659, 7843, 8603], 'wvr': [944, 960, 1568, 2352, 2536, 2968, 3384, 4512, 4632, 5216, 5432, 5600, 5808, 5816, 6952, 7528, 7872, 8328], 'hum': [972, 1196, 1396, 2076, 2220, 2444, 3012, 3804, 4212, 5060, 6092, 6220, 6380, 6540, 6756, 6996, 7052, 7156, 7540, 7636, 8180, 8340], 'vvz': [1277, 1368, 1853, 2069, 2349, 3133, 3141, 3877, 4218, 4837, 6229, 7077, 7869, 8109, 8229, 8497, 8501]}\n"
     ]
    }
   ],
   "source": [
    "#First, we want a dictionary with the most common three letter words, and the distances between each instance.\n",
    "length = 3\n",
    "maxkeylen = 16\n",
    "file = open('message_wuthering_heights.txt') # The message we will use on our function.\n",
    "chapter = file.read() \n",
    "file.close() # We close the file after use.\n",
    "\n",
    "def repeated_seq(text,length): # We want to find repeated sequences in the text.\n",
    "    seqs_count_spac = {}\n",
    "    max_occur = 0\n",
    "    seqs_spac = {}\n",
    "    for i in range(len(text)-length):\n",
    "        seq = text[i:i+length]\n",
    "        if seq in seqs_count_spac: # The first element of the word's value entry will be the number of occurences\n",
    "            seqs_count_spac[seq][0] += 1 # This means we can extract the most common words and just focus on these\n",
    "            seqs_count_spac[seq][1].append(i)\n",
    "            # The second element of the the value entry is a list (within a list)\n",
    "            # This will record the location of the word in the text so we can work out spacings\n",
    "        else:\n",
    "            seqs_count_spac.update({seq:[1,[i]]})\n",
    "            # If the word is not in the dictionary yet, we add it with its number of occurences (1)\n",
    "            # And the location of the first occurence, which is i\n",
    "        max_occur = max(seqs_count_spac[seq][0],max_occur)\n",
    "        # We then update the max number of occurences to be the maximum between the the word we are looking at\n",
    "        # Or the maximum before looking at the word (if that makes sense)\n",
    "        \n",
    "    # Now we will want to cut out words that are not occuring enough. We look at the top 75% of words\n",
    "    threshold = max_occur*0.75\n",
    "    for key in seqs_count_spac:\n",
    "        if seqs_count_spac[key][0] >= threshold:\n",
    "            seqs_spac[key] = seqs_count_spac.get(key)[1]\n",
    "            # Once we have the most frequent words, we only want the positions of these words\n",
    "    return seqs_spac \n",
    "\n",
    "\n",
    "# We cant have spaces in the text when we are doing this\n",
    "book_text = \"\".join(re.findall('[a-z]',chapter.lower())) # Extract the test from our text file to use.\n",
    "enc_text = vigenere_encrypt('donkonit',book_text) # Encrypt it with our Vigenere encryption function.\n",
    "seq_dic = repeated_seq(enc_text,length) # Run it through our function above.\n",
    "print(\"Repeated sequences used throughout the text are:\")\n",
    "print(\"\")\n",
    "print(seq_dic) # Show the result to the user below."
   ]
  },
  {
   "cell_type": "code",
   "execution_count": 32,
   "metadata": {},
   "outputs": [],
   "source": [
    "# Now we want the most common factors of the lengths between these common words\n",
    "# We will write a function to get a list of factors of a number (thats what get_divs is doing)\n",
    "def distances(seq_dic):\n",
    "    lengths = [] # Stores the lengths between the common words.\n",
    "    for keys in seq_dic:\n",
    "        for i in range(len(seq_dic[keys])-1):\n",
    "            lengths.append(seq_dic[keys][i+1]-seq_dic[keys][i]) # Add the lengths between the common words to the dictionary.\n",
    "    return lengths\n",
    "dist = distances(seq_dic) # Call this function on our dictionary from before."
   ]
  },
  {
   "cell_type": "code",
   "execution_count": 33,
   "metadata": {},
   "outputs": [
    {
     "name": "stdout",
     "output_type": "stream",
     "text": [
      "The most frequent occuring factors are the following:\n",
      "\n",
      "{4: 109, 8: 107, 16: 53, 3: 38, 6: 38, 12: 38, 24: 38, 32: 32, 5: 27, 40: 26, 10: 26, 20: 26, 7: 19, 14: 18, 28: 18, 56: 18, 48: 17, 9: 15, 18: 15, 36: 15, 72: 15, 80: 13, 64: 12, 13: 10, 160: 10, 104: 9, 26: 9, 52: 9, 96: 9, 15: 9, 30: 9, 60: 9, 120: 9, 11: 8, 22: 7, 44: 7, 88: 7, 184: 7, 23: 7, 46: 7, 92: 7, 21: 6, 42: 6, 84: 6, 168: 6, 128: 6, 144: 6, 112: 6, 240: 6, 192: 5, 216: 5, 27: 5, 54: 5, 108: 5}\n"
     ]
    }
   ],
   "source": [
    "def get_factors(number): #This will allow us to easily find the factors of the distances from above.\n",
    "    yield number\n",
    "    for i in range(2, (number // 2) + 1):\n",
    "        mod = number % i\n",
    "        if mod == 0: # If i is a factor of the number.\n",
    "            yield i\n",
    "\n",
    "def get_common_factors(dist_list):\n",
    "    factor_dict = {} \n",
    "    for n in range(len(dist_list)):\n",
    "        factors = list(get_factors(dist_list[n]))\n",
    "        for i in factors: # We count the occurences of items in factors.\n",
    "            if i in factor_dict:\n",
    "                factor_dict[i] += 1\n",
    "            else:\n",
    "                factor_dict.update({i:1})\n",
    "    if 2 in factor_dict: # Our keyword is most likely not length 2\n",
    "        factor_dict.pop(2)\n",
    "        \n",
    "    # We also want to get rid of factors that do not occur often\n",
    "    threshold = 5 # Less than 5 say, we remove.\n",
    "    good_factors = {}\n",
    "    for key in factor_dict:\n",
    "        if factor_dict[key] >= threshold: # Add the good factors.\n",
    "            good_factors[key] = factor_dict.get(key)\n",
    "            \n",
    "    # Now we have a dictionary of the uselful factors and occurences, we want to sort for the most common factors \n",
    "    sorted_factor_dict = dict(sorted(good_factors.items(), key=lambda item: item[1],reverse=True))\n",
    "    return sorted_factor_dict # Returns a dictionary with the highest occuring factor first.\n",
    "\n",
    "most_common_factors = get_common_factors(dist) # Apply the above function to our distances list.\n",
    "print(\"The most frequent occuring factors are the following:\")\n",
    "print(\"\")\n",
    "print(most_common_factors) # Show the result to the user."
   ]
  },
  {
   "cell_type": "code",
   "execution_count": 34,
   "metadata": {},
   "outputs": [
    {
     "name": "stdout",
     "output_type": "stream",
     "text": [
      "The decrypted Vigenere ciphertext using Kasiski analysis is the following:\n",
      "\n",
      "ihavejustreturnedfromavisittomylandlordthesolitaryneighbourthatishallbetroubledwiththisiscertainlyabeautifulcountryinallenglandidonotbelievethaticouldhavefixedonasituationsocompletelyremovedfromthestirofsocietyaperfectmisanthropistsheavenandmrheathcliffandiaresuchasuitablepairtodividethedesolationbetweenusacapitalfellowhelittleimaginedhowmyheartwarmedtowardshimwhenibeheldhisblackeyeswithdrawsosuspiciouslyundertheirbrowsasirodeupandwhenhisfingersshelteredthemselveswithajealousresolutionstillfurtherinhiswaistcoatasiannouncedmynamemrheathcliffisaidanodwastheanswermrlockwoodyournewtenantsiridomyselfthehonourofcallingassoonaspossibleaftermyarrivaltoexpressthehopethatihavenotinconveniencedyoubymyperseveranceinsolicitingtheoccupationofthrushcrossgrangeiheardyesterdayyouhadhadsomethoughtsthrushcrossgrangeismyownsirheinterruptedwincingishouldnotallowanyonetoinconveniencemeificouldhinderitwalkinthewalkinwasutteredwithclosedteethandexpressedthesentimentgotothedeuceeventhegateoverwhichheleantmanifestednosympathisingmovementtothewordsandithinkthatcircumstancedeterminedmetoaccepttheinvitationifeltinterestedinamanwhoseemedmoreexaggeratedlyreservedthanmyselfwhenhesawmyhorsesbreastfairlypushingthebarrierhedidputouthishandtounchainitandthensullenlyprecededmeupthecausewaycallingasweenteredthecourtjosephtakemrlockwoodshorseandbringupsomewineherewehavethewholeestablishmentofdomesticsisupposewasthereflectionsuggestedbythiscompoundordernowonderthegrassgrowsupbetweentheflagsandcattlearetheonlyhedgecuttersjosephwasanelderlynayanoldmanveryoldperhapsthoughhaleandsinewythelordhelpushesoliloquisedinanundertoneofpeevishdispleasurewhilerelievingmeofmyhorselookingmeantimeinmyfacesosourlythaticharitablyconjecturedhemusthaveneedofdivineaidtodigesthisdinnerandhispiousejaculationhadnoreferencetomyunexpectedadventwutheringheightsisthenameofmrheathcliffsdwellingwutheringbeingasignificantprovincialadjectivedescriptiveoftheatmospherictumulttowhichitsstationisexposedinstormyweatherpurebracingventilationtheymusthaveupthereatalltimesindeedonemayguessthepowerofthenorthwindblowingovertheedgebytheexcessiveslantofafewstuntedfirsattheendofthehouseandbyarangeofgauntthornsallstretchingtheirlimbsonewayasifcravingalmsofthesunhappilythearchitecthadforesighttobuilditstrongthenarrowwindowsaredeeplysetinthewallandthecornersdefendedwithlargejuttingstonesbeforepassingthethresholdipausedtoadmireaquantityofgrotesquecarvinglavishedoverthefrontandespeciallyabouttheprincipaldoorabovewhichamongawildernessofcrumblinggriffinsandshamelesslittleboysidetectedthedateandthenameharetonearnshawiwouldhavemadeafewcommentsandrequestedashorthistoryoftheplacefromthesurlyownerbuthisattitudeatthedoorappearedtodemandmyspeedyentranceorcompletedepartureandihadnodesiretoaggravatehisimpatienceprevioustoinspectingthepenetraliumonestopbroughtusintothefamilysittingroomwithoutanyintroductorylobbyorpassagetheycallitherethehousepreeminentlyitincludeskitchenandparlourgenerallybutibelieveatwutheringheightsthekitchenisforcedtoretreataltogetherintoanotherquarteratleastidistinguishedachatteroftonguesandaclatterofculinaryutensilsdeepwithinandiobservednosignsofroastingboilingorbakingaboutthehugefireplacenoranyglitterofcoppersaucepansandtincullendersonthewallsoneendindeedreflectedsplendidlybothlightandheatfromranksofimmensepewterdishesinterspersedwithsilverjugsandtankardstoweringrowafterrowonavastoakdressertotheveryroofthelatterhadneverbeenunderdrawnitsentireanatomylaybaretoaninquiringeyeexceptwhereaframeofwoodladenwithoatcakesandclustersoflegsofbeefmuttonandhamconcealeditabovethechimneyweresundryvillainousoldgunsandacoupleofhorsepistolsandbywayofornamentthreegaudilypaintedcanistersdisposedalongitsledgethefloorwasofsmoothwhitestonethechairshighbackedprimitivestructurespaintedgreenoneortwoheavyblackoneslurkingintheshadeinanarchunderthedresserreposedahugelivercolouredbitchpointersurroundedbyaswarmofsquealingpuppiesandotherdogshauntedotherrecessestheapartmentandfurniturewouldhavebeennothingextraordinaryasbelongingtoahomelynorthernfarmerwithastubborncountenanceandstalwartlimbssetouttoadvantageinkneebreechesandgaiterssuchanindividualseatedinhisarmchairhismugofalefrothingontheroundtablebeforehimistobeseeninanycircuitoffiveorsixmilesamongthesehillsifyougoattherighttimeafterdinnerbutmrheathcliffformsasingularcontrasttohisabodeandstyleoflivingheisadarkskinnedgipsyinaspectindressandmannersagentlemanthatisasmuchagentlemanasmanyacountrysquireratherslovenlyperhapsyetnotlookingamisswithhisnegligencebecausehehasanerectandhandsomefigureandrathermorosepossiblysomepeoplemightsuspecthimofadegreeofunderbredprideihaveasympatheticchordwithinthattellsmeitisnothingofthesortiknowbyinstincthisreservespringsfromanaversiontoshowydisplaysoffeelingtomanifestationsofmutualkindlinesshellloveandhateequallyundercoverandesteemitaspeciesofimpertinencetobelovedorhatedagainnoimrunningontoofastibestowmyownattributesoverliberallyonhimmrheathcliffmayhaveentirelydissimilarreasonsforkeepinghishandoutofthewaywhenhemeetsawouldbeacquaintancetothosewhichactuatemeletmehopemyconstitutionisalmostpeculiarmydearmotherusedtosayishouldneverhaveacomfortablehomeandonlylastsummeriprovedmyselfperfectlyunworthyofonewhileenjoyingamonthoffineweatherattheseacoastiwasthrownintothecompanyofamostfascinatingcreaturearealgoddessinmyeyesaslongasshetooknonoticeofmeinevertoldmylovevocallystilliflookshavelanguagethemerestidiotmighthaveguessediwasoverheadandearssheunderstoodmeatlastandlookedareturnthesweetestofallimaginablelooksandwhatdididoiconfessitwithshameshrunkicilyintomyselflikeasnailateveryglanceretiredcolderandfarthertillfinallythepoorinnocentwasledtodoubtherownsensesandoverwhelmedwithconfusionathersupposedmistakepersuadedhermammatodecampbythiscuriousturnofdispositionihavegainedthereputationofdeliberateheartlessnesshowundeservedialonecanappreciateitookaseatattheendofthehearthstoneoppositethattowardswhichmylandlordadvancedandfilledupanintervalofsilencebyattemptingtocaressthecaninemotherwhohadlefthernurseryandwassneakingwolfishlytothebackofmylegsherlipcurledupandherwhiteteethwateringforasnatchmycaressprovokedalonggutturalgnarlyoudbetterletthedogalonegrowledmrheathcliffinunisoncheckingfiercerdemonstrationswithapunchofhisfootshesnotaccustomedtobespoilednotkeptforapetthenstridingtoasidedoorheshoutedagainjosephjosephmumbledindistinctlyinthedepthsofthecellarbutgavenointimationofascendingsohismasterdiveddowntohimleavingmevisvistheruffianlybitchandapairofgrimshaggysheepdogswhosharedwithherajealousguardianshipoverallmymovementsnotanxioustocomeincontactwiththeirfangsisatstillbutimaginingtheywouldscarcelyunderstandtacitinsultsiunfortunatelyindulgedinwinkingandmakingfacesatthetrioandsometurnofmyphysiognomysoirritatedmadamthatshesuddenlybrokeintoafuryandleaptonmykneesiflungherbackandhastenedtointerposethetablebetweenusthisproceedingarousedthewholehivehalfadozenfourfootedfiendsofvarioussizesandagesissuedfromhiddendenstothecommoncentreifeltmyheelsandcoatlapspeculiarsubjectsofassaultandparryingoffthelargercombatantsaseffectuallyasicouldwiththepokeriwasconstrainedtodemandaloudassistancefromsomeofthehouseholdinreestablishingpeacemrheathcliffandhismanclimbedthecellarstepswithvexatiousphlegmidontthinktheymovedonesecondfasterthanusualthoughthehearthwasanabsolutetempestofworryingandyelpinghappilyaninhabitantofthekitchenmademoredispatchalustydamewithtuckedupgownbarearmsandfireflushedcheeksrushedintothemidstofusflourishingafryingpanandusedthatweaponandhertonguetosuchpurposethatthestormsubsidedmagicallyandsheonlyremainedheavinglikeaseaafterahighwindwhenhermasterenteredonthescenewhatthedevilisthematterheaskedeyeingmeinamannerthaticouldillendureafterthisinhospitabletreatmentwhatthedevilindeedimutteredtheherdofpossessedswinecouldhavehadnoworsespiritsinthemthanthoseanimalsofyourssiryoumightaswellleaveastrangerwithabroodoftigerstheywontmeddlewithpersonswhotouchnothingheremarkedputtingthebottlebeforemeandrestoringthedisplacedtablethedogsdorighttobevigilanttakeaglassofwinenothankyounotbittenareyouifihadbeeniwouldhavesetmysignetonthebiterheathcliffscountenancerelaxedintoagrincomecomehesaidyouareflurriedmrlockwoodheretakealittlewineguestsaresoexceedinglyrareinthishousethatiandmydogsiamwillingtoownhardlyknowhowtoreceivethemyourhealthsiribowedandreturnedthepledgebeginningtoperceivethatitwouldbefoolishtositsulkingforthemisbehaviourofapackofcursbesidesifeltlothtoyieldthefellowfurtheramusementatmyexpensesincehishumourtookthatturnheprobablyswayedbyprudentialconsiderationofthefollyofoffendingagoodtenantrelaxedalittleinthelaconicstyleofchippingoffhispronounsandauxiliaryverbsandintroducedwhathesupposedwouldbeasubjectofinteresttomeadiscourseontheadvantagesanddisadvantagesofmypresentplaceofretirementifoundhimveryintelligentonthetopicswetouchedandbeforeiwenthomeiwasencouragedsofarastovolunteeranothervisittomorrowheevidentlywishednorepetitionofmyintrusionishallgonotwithstandingitisastonishinghowsociableifeelmyselfcomparedwith\n"
     ]
    }
   ],
   "source": [
    "# Next, we try the first most common factor as a key length. If this works, we are done. If not we try the next one\n",
    "# We will input our text and the common factor dictionary so we can try decode the ciphertext.\n",
    "\n",
    "def kasiski_break(enc_text,factor_dict): # The main function:\n",
    "    k = 0\n",
    "    eng = False # Assume what we have is not English plaintext.\n",
    "    final_string = ''\n",
    "    while eng == False: # Repeat the following while we haven't decrypted the ciphertext to plaintext:\n",
    "        guess_key_len = list(factor_dict.keys())[k] # The most common key length\n",
    "        shifted_strings = []\n",
    "        e_val = ord('e')-97 # We know the most frequent letter is e\n",
    "        unshifted_strings = []\n",
    "        for i in range(guess_key_len):\n",
    "            shifted_strings.append(''.join(enc_text[i::guess_key_len])) # We shift the strings by the guessed key length.\n",
    "        for i in range(guess_key_len):\n",
    "            freq = freq_analysis(shifted_strings[i]) # We use our frequency analysis code to try to break this message.\n",
    "            sort_freq = dict(sorted(freq.items(), key=lambda item: item[1],reverse=True))\n",
    "            letter_val = ord(max(sort_freq, key=sort_freq.get)) - 97\n",
    "            keyval = abs(e_val - letter_val)\n",
    "            unshift = caesar_decrypt(keyval, shifted_strings[i]) # We apply our Caesar decryption code to try to break the encrypted string.\n",
    "            unshifted_strings.append(unshift)\n",
    "        # Lastly we need a way to put all the unshifted strings back togther again\n",
    "        string_len = len(unshifted_strings[guess_key_len-1])\n",
    "        for j in range(string_len):\n",
    "            for i in range(guess_key_len):\n",
    "                final_string += unshifted_strings[i][j] # We join the unshifted strings back together to form the message.\n",
    "        # We need to check if the decrypted message is in English, and if it isnt try again.\n",
    "        # The next most common key length\n",
    "        if 'the' in final_string and 'and' in final_string: # Very common words to check the text is English plaintext.\n",
    "            eng = True\n",
    "        else: # If not, we repeat the above again.\n",
    "            eng = False\n",
    "            final_string = '' # The entire decrypted message\n",
    "        k+=1        \n",
    "    return final_string\n",
    "    \n",
    "a = kasiski_break(enc_text,most_common_factors) # Call the above on our encrypted text from the text file.\n",
    "print(\"The decrypted Vigenere ciphertext using Kasiski analysis is the following:\")\n",
    "print(\"\")\n",
    "print(a) # Show the result to the user."
   ]
  },
  {
   "cell_type": "markdown",
   "metadata": {},
   "source": [
    "## Question 10:"
   ]
  },
  {
   "cell_type": "markdown",
   "metadata": {},
   "source": [
    "We have a seperate file analysing the computation times for the Kasiski analysis from Question 9. Using that, we see that the average running time to break the Vigenere encryption was around 0.01 seconds. We have tested the performance of the smallest factor function in Question 3, and from that we can see the closest bit length for the two primes that would result in the smallest factor function having an execution time of 0.01 seconds would be around 17 bits."
   ]
  },
  {
   "cell_type": "markdown",
   "metadata": {},
   "source": [
    "# END OF PROJECT NOTEBOOK"
   ]
  }
 ],
 "metadata": {
  "kernelspec": {
   "display_name": "Python 3",
   "language": "python",
   "name": "python3"
  },
  "language_info": {
   "codemirror_mode": {
    "name": "ipython",
    "version": 3
   },
   "file_extension": ".py",
   "mimetype": "text/x-python",
   "name": "python",
   "nbconvert_exporter": "python",
   "pygments_lexer": "ipython3",
   "version": "3.8.5"
  }
 },
 "nbformat": 4,
 "nbformat_minor": 4
}
